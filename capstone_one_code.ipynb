{
 "cells": [
  {
   "cell_type": "code",
   "execution_count": 8,
   "metadata": {},
   "outputs": [],
   "source": [
    "from selenium import webdriver\n",
    "from selenium.webdriver import Chrome\n",
    "from selenium.webdriver.common.by import By\n",
    "from selenium.webdriver.support.ui import WebDriverWait\n",
    "from selenium.webdriver.support import expected_conditions as EC\n",
    "from selenium.common.exceptions import NoAlertPresentException\n",
    "from selenium.common.exceptions import TimeoutException\n",
    "from selenium.webdriver.common.keys import Keys\n",
    "\n",
    "import pandas as pd\n",
    "\n",
    "from pymongo import MongoClient\n",
    "import pandas as pd\n",
    "\n",
    "# Requests sends and recieves HTTP requests.\n",
    "import requests\n",
    "\n",
    "# Beautiful Soup parses HTML documents in python.\n",
    "from bs4 import BeautifulSoup\n",
    "\n",
    "import time\n",
    "import pprint\n",
    "\n",
    "from datetime import timedelta, date"
   ]
  },
  {
   "cell_type": "code",
   "execution_count": 9,
   "metadata": {},
   "outputs": [],
   "source": [
    "webdriver = \"/Users/kathrynjohnson/Downloads/chromedriver\"\n",
    "\n",
    "driver = Chrome(webdriver)\n",
    "\n",
    "login_url = \"https://myaccount.nytimes.com/auth/login\"\n",
    "\n",
    "driver.get(login_url)\n",
    "\n",
    "html_source = driver.page_source"
   ]
  },
  {
   "cell_type": "code",
   "execution_count": 12,
   "metadata": {},
   "outputs": [],
   "source": [
    "request_url = 'https://www.nytimes.com/crosswords'\n",
    "\n",
    "driver.get(request_url)\n",
    "\n",
    "html_source = driver.page_source\n"
   ]
  },
  {
   "cell_type": "code",
   "execution_count": 53,
   "metadata": {},
   "outputs": [],
   "source": [
    "def daterange(start_date, end_date):\n",
    "    for n in range(int ((end_date - start_date).days)):\n",
    "        yield start_date + timedelta(n)\n",
    "\n",
    "puzzle_dict = {}\n",
    "start_date = date(2017, 1, 1)\n",
    "end_date = date(2019, 1, 1)\n",
    "\n",
    "for single_date in daterange(start_date, end_date):\n",
    "    url = \"https://www.nytimes.com/crosswords/game/daily/\" + single_date.strftime(\"%Y/%m/%d\") + \"/\"\n",
    "    driver.get(url)\n",
    "    clue_element = driver.find_elements_by_class_name(\"Clue-text--3lZl7\")\n",
    "    clue = [x.text for x in clue_element]\n",
    "    author_element = driver.find_elements_by_class_name(\"PuzzleDetails-byline--16J5w\")\n",
    "    for x in author_element:\n",
    "        if x.text[0] is 'T':\n",
    "            byline = x.text[16:]\n",
    "            byline_split = byline.split('Edited')\n",
    "            author = byline_split[0]\n",
    "        elif x.text[0] is '\"':\n",
    "            byline = x.text.replace('\"', ' ')\n",
    "            byline2 = byline.replace('Edited ', ' ')\n",
    "            byline3 = byline2.replace('by', 'By')\n",
    "            byline_split = byline3.split('By ')\n",
    "            author = byline_split[1]\n",
    "    timer_element = driver.find_elements_by_class_name('timer-count')\n",
    "    timer = [x.text for x in timer_element]\n",
    "    puzzle_dict[single_date.strftime(\"%Y-%m-%d\")] = (timer[0], author, clue)\n",
    "    time.sleep(15)"
   ]
  },
  {
   "cell_type": "code",
   "execution_count": 54,
   "metadata": {},
   "outputs": [
    {
     "data": {
      "text/html": [
       "<div>\n",
       "<style scoped>\n",
       "    .dataframe tbody tr th:only-of-type {\n",
       "        vertical-align: middle;\n",
       "    }\n",
       "\n",
       "    .dataframe tbody tr th {\n",
       "        vertical-align: top;\n",
       "    }\n",
       "\n",
       "    .dataframe thead th {\n",
       "        text-align: right;\n",
       "    }\n",
       "</style>\n",
       "<table border=\"1\" class=\"dataframe\">\n",
       "  <thead>\n",
       "    <tr style=\"text-align: right;\">\n",
       "      <th></th>\n",
       "      <th>solve_time</th>\n",
       "      <th>author</th>\n",
       "      <th>clues</th>\n",
       "    </tr>\n",
       "  </thead>\n",
       "  <tbody>\n",
       "    <tr>\n",
       "      <th>2017-01-01</th>\n",
       "      <td>33:53</td>\n",
       "      <td>MATTHEW SEWELL</td>\n",
       "      <td>[Sponged, Asylum, Takes from page to screen, s...</td>\n",
       "    </tr>\n",
       "  </tbody>\n",
       "</table>\n",
       "</div>"
      ],
      "text/plain": [
       "           solve_time           author  \\\n",
       "2017-01-01      33:53  MATTHEW SEWELL    \n",
       "\n",
       "                                                        clues  \n",
       "2017-01-01  [Sponged, Asylum, Takes from page to screen, s...  "
      ]
     },
     "execution_count": 54,
     "metadata": {},
     "output_type": "execute_result"
    }
   ],
   "source": [
    "pd.DataFrame.from_dict(puzzle_dict, orient='index', columns=['solve_time', 'author', 'clues'])"
   ]
  },
  {
   "cell_type": "code",
   "execution_count": null,
   "metadata": {},
   "outputs": [],
   "source": []
  },
  {
   "cell_type": "code",
   "execution_count": null,
   "metadata": {},
   "outputs": [],
   "source": []
  },
  {
   "cell_type": "code",
   "execution_count": null,
   "metadata": {},
   "outputs": [],
   "source": []
  },
  {
   "cell_type": "code",
   "execution_count": null,
   "metadata": {},
   "outputs": [],
   "source": []
  },
  {
   "cell_type": "code",
   "execution_count": null,
   "metadata": {},
   "outputs": [],
   "source": []
  },
  {
   "cell_type": "code",
   "execution_count": 51,
   "metadata": {},
   "outputs": [
    {
     "data": {
      "text/plain": [
       "'JOHN FICARRA AND PATRICK MERRELL'"
      ]
     },
     "execution_count": 51,
     "metadata": {},
     "output_type": "execute_result"
    }
   ],
   "source": [
    "test_url2 = 'https://www.nytimes.com/crosswords/game/daily/2020/04/01'\n",
    "\n",
    "driver.get(test_url2)\n",
    "\n",
    "html_source = driver.page_source\n",
    "\n",
    "author_element = driver.find_elements_by_class_name(\"PuzzleDetails-byline--16J5w\")\n",
    "for x in author_element:\n",
    "    if x.text[0] is 'T':\n",
    "        byline = x.text[16:]\n",
    "        byline_split = byline.split('Edited')\n",
    "        author = byline_split[0]\n",
    "    elif x.text[0] is '\"':\n",
    "        byline = x.text.replace('\"', ' ')\n",
    "        byline2 = byline.replace('Edited ', ' ')\n",
    "        byline3 = byline2.replace('by', 'By')\n",
    "        byline_split = byline3.split('By ')\n",
    "        author = byline_split[1]\n",
    "author"
   ]
  },
  {
   "cell_type": "code",
   "execution_count": null,
   "metadata": {},
   "outputs": [],
   "source": []
  }
 ],
 "metadata": {
  "kernelspec": {
   "display_name": "Python [conda env:root] *",
   "language": "python",
   "name": "conda-root-py"
  },
  "language_info": {
   "codemirror_mode": {
    "name": "ipython",
    "version": 3
   },
   "file_extension": ".py",
   "mimetype": "text/x-python",
   "name": "python",
   "nbconvert_exporter": "python",
   "pygments_lexer": "ipython3",
   "version": "3.7.7"
  }
 },
 "nbformat": 4,
 "nbformat_minor": 4
}
