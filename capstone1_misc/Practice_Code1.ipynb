{
 "cells": [
  {
   "cell_type": "code",
   "execution_count": 2,
   "metadata": {
    "collapsed": true
   },
   "outputs": [],
   "source": [
    "from selenium import webdriver\n",
    "from selenium.webdriver import Chrome\n",
    "from selenium.webdriver.common.by import By\n",
    "from selenium.webdriver.support.ui import WebDriverWait\n",
    "from selenium.webdriver.support import expected_conditions as EC\n",
    "from selenium.common.exceptions import NoAlertPresentException\n",
    "from selenium.common.exceptions import TimeoutException\n",
    "from selenium.webdriver.common.keys import Keys\n",
    "\n",
    "import pandas as pd\n",
    "\n",
    "from pymongo import MongoClient\n",
    "import pandas as pd\n",
    "\n",
    "# Requests sends and recieves HTTP requests.\n",
    "import requests\n",
    "\n",
    "# Beautiful Soup parses HTML documents in python.\n",
    "from bs4 import BeautifulSoup\n",
    "\n",
    "import time\n",
    "import pprint\n",
    "\n",
    "import datetime\n",
    "from datetime import timedelta, date, time\n",
    "\n",
    "import numpy as np\n",
    "import matplotlib.pyplot as plt"
   ]
  },
  {
   "cell_type": "code",
   "execution_count": 125,
   "metadata": {
    "collapsed": true
   },
   "outputs": [],
   "source": [
    "webdriver = \"/Users/kathrynjohnson/Downloads/chromedriver\"\n",
    "\n",
    "driver = Chrome(webdriver)"
   ]
  },
  {
   "cell_type": "code",
   "execution_count": 126,
   "metadata": {
    "collapsed": true,
    "scrolled": true
   },
   "outputs": [],
   "source": [
    "login_url = \"https://myaccount.nytimes.com/auth/login\"\n",
    "\n",
    "driver.get(login_url)\n",
    "\n",
    "html_source = driver.page_source"
   ]
  },
  {
   "cell_type": "code",
   "execution_count": 127,
   "metadata": {},
   "outputs": [
    {
     "name": "stdout",
     "output_type": "stream",
     "text": [
      "2950353\n"
     ]
    }
   ],
   "source": [
    "\n",
    "request_url = 'https://www.nytimes.com/crosswords'\n",
    "\n",
    "driver.get(request_url)\n",
    "\n",
    "html_source = driver.page_source\n",
    "\n",
    "print(len(html_source))"
   ]
  },
  {
   "cell_type": "code",
   "execution_count": 128,
   "metadata": {
    "collapsed": true
   },
   "outputs": [],
   "source": [
    "test_url = 'https://www.nytimes.com/crosswords/game/daily/2020/03/27'\n",
    "\n",
    "driver.get(test_url)\n",
    "\n",
    "html_source = driver.page_source\n",
    "\n",
    "clue_element = driver.find_elements_by_class_name(\"Clue-text--3lZl7\")\n",
    "clue = [x.text for x in clue_element]\n"
   ]
  },
  {
   "cell_type": "code",
   "execution_count": 129,
   "metadata": {},
   "outputs": [
    {
     "data": {
      "text/plain": [
       "'JOHN FICARRA AND PATRICK MERRELL'"
      ]
     },
     "execution_count": 129,
     "metadata": {},
     "output_type": "execute_result"
    }
   ],
   "source": [
    "test_url = 'https://www.nytimes.com/crosswords/game/daily/2020/04/01'\n",
    "\n",
    "driver.get(test_url)\n",
    "\n",
    "html_source = driver.page_source\n",
    "\n",
    "author_element = driver.find_elements_by_class_name(\"PuzzleDetails-byline--16J5w\")\n",
    "for x in author_element:\n",
    "    byline = x.text[16:]\n",
    "    byline_split = byline.split('Edited')\n",
    "    author = byline_split[0]\n",
    "#split = x.text[16:].split('Edited') for x in author_element\n",
    "author"
   ]
  },
  {
   "cell_type": "code",
   "execution_count": null,
   "metadata": {
    "collapsed": true
   },
   "outputs": [],
   "source": [
    "['The CrosswordBy KYLE DOLANEdited by WILL SHORTZ']"
   ]
  },
  {
   "cell_type": "code",
   "execution_count": null,
   "metadata": {
    "collapsed": true
   },
   "outputs": [],
   "source": [
    "[['The CrosswordBy KYLE DOLAN', ' by WILL SHORTZ']]"
   ]
  },
  {
   "cell_type": "code",
   "execution_count": 178,
   "metadata": {},
   "outputs": [
    {
     "data": {
      "text/plain": [
       "'<html><head></head> <body marginwidth=\"0\" marginheight=\"0\"> <script type=\"text/javascript\">try{\\nvar cookieSyncConfig = {\"datalen\":61,\"visitor\":{\"vsCk\":\"visitor-id\",\"vsDaCk\":\"data\",\"sepVal\":\"|\",\"sepTime\":\"*\",\"sepCs\":\"~~\",\"vsDaTime\":31536000,\"visitorId\":\"1730971936623074000V10\",\"cc\":\"US\",\"zone\":\" e \"},\"cs\":\"1\",\"lookup\":{\"apx\":{\"name\":\"apx\",\"time\":89,\"cookie\":\"data-a\",\"urls\":[{\"type\":\"img\",\"url\":\"https:\\\\/\\\\/ib.adnxs.com\\\\/getuid?https%3A%2F%2Fcontextual.media.net%2Fcksync.php%3Fcs%3D1%26vsid%3D%3Cvsid%3E%26type%3Dapx%26refUrl%3D%3CrefUrl%3E%26vid%3D%3Cvid%3E%26ovsid%3D%24UID\"}],\"pvid\":2,\"purge\":[\"setstatuscode\"]},\"rbcn\":{\"name\":\"rbcn\",\"time\":180,\"cookie\":\"data-r\",\"urls\":[{\"type\":\"iframe\",\"url\":\"https:\\\\/\\\\/secure-assets.rubiconproject.com\\\\/utils\\\\/xapi\\\\/multi-sync.html?p=medianet\"}],\"pvid\":29},\"opx\":{\"name\":\"opx\",\"time\":364,\"cookie\":\"data-o\",\"urls\":[{\"type\":\"img\",\"url\":\"https:\\\\/\\\\/us-u.openx.net\\\\/w\\\\/1.0\\\\/cm?id=78e2dffc-bb89-4bb2-ae92-f592d006518b&ph=6a16560a-f6c6-4851-b7b5-0b2c0190166a&r=https%3A%2F%2Fcontextual.media.net%2Fcksync.html%3Fcs%3D1%26vsid%3D%3Cvsid%3E%26type%3Dopx%26refUrl%3D%3CrefUrl%3E%26vid%3D%3Cvid%3E%26ovsid%3D\"}],\"pvid\":43,\"purge\":[\"\\\\\\\\{\\\\\\\\$UUID\\\\\\\\}\"]},\"dxu\":{\"name\":\"dxu\",\"time\":364,\"cookie\":\"data-xu\",\"urls\":[{\"type\":\"img\",\"url\":\"https:\\\\/\\\\/pm.w55c.net\\\\/ping_match.gif?ei=MEDIANET&rurl=https%3A%2F%2Fcontextual.media.net%2Fcksync.php%3Fcs%3D1%26vsid%3D%3Cvsid%3E%26type%3Ddxu%26refUrl%3D%3CrefUrl%3E%26vid%3D%3Cvid%3E%26ovsid%3D_wfivefivec_\"}],\"pvid\":80},\"crt\":{\"name\":\"crt\",\"time\":30,\"cookie\":\"data-c\",\"urls\":null,\"pvid\":97},\"bs\":{\"name\":\"bs\",\"time\":364,\"cookie\":\"data-bs\",\"urls\":[{\"type\":\"img\",\"url\":\"https:\\\\/\\\\/x.bidswitch.net\\\\/sync?ssp=medianet\"}],\"pvid\":109},\"amb\":{\"name\":\"amb\",\"time\":365,\"cookie\":\"data-amb\",\"urls\":[{\"type\":\"img\",\"url\":\"https:\\\\/\\\\/ad.turn.com\\\\/r\\\\/cs?pid=59&redir=https%3A%2F%2Fcontextual.media.net%2Fcksync.php%3Fcs%3D1%26vsid%3D%3Cvsid%3E%26type%3Damb%26refUrl%3D%3CrefUrl%3E%26vid%3D%3Cvid%3E%26ovsid%3D%23USER_ID%23\"}],\"pvid\":201,\"purge\":[\"\\\\\\\\{\\\\\\\\$UUID\\\\\\\\}\"]},\"rbh\":{\"name\":\"rbh\",\"time\":365,\"cookie\":\"data-rbh\",\"urls\":[{\"type\":\"img\",\"url\":\"https:\\\\/\\\\/creativecdn.com\\\\/cm-notify?pi=medianet\"}],\"pvid\":214},\"di\":{\"name\":\"di\",\"time\":365,\"cookie\":\"data-di\",\"urls\":[{\"type\":\"img\",\"url\":\"https:\\\\/\\\\/match.deepintent.com\\\\/usersync\\\\/131?redir=https%3A%2F%2Fcontextual.media.net%2Fcksync.php%3Fcs%3D1%26vsid%3D%3Cvsid%3E%26type%3Ddi%26refUrl%3D%3CrefUrl%3E%26vid%3D%3Cvid%3E%26ovsid%3D%24%7BDI_USER_ID%7D\"}],\"pvid\":222},\"bt\":{\"name\":\"bt\",\"time\":364,\"cookie\":\"data-bt\",\"urls\":[{\"type\":\"img\",\"url\":\"https:\\\\/\\\\/bttrack.com\\\\/pixel\\\\/cookiesync?source=c97fbae0-32e3-46a2-8f41-d6127abfd1da&secure=1https%3A%2F%2Fcontextual.media.net%2Fcksync.php%3Fcs%3D1%26vsid%3D%3Cvsid%3E%26type%3Dbt%26refUrl%3D%3CrefUrl%3E%26vid%3D%3Cvid%3E%26ovsid%3D\"}],\"pvid\":3014}},\"batch\":{\"gGroups\":[\"apx\",\"csm\",\"ppt\",\"rbcn\",\"son\",\"bdt\",\"con\",\"opx\",\"tlx\",\"mma\",\"c1x\",\"ys\",\"sov\",\"fb\",\"r1\",\"g\",\"pb\",\"dxu\",\"rkt\",\"trx\",\"wds\",\"crt\",\"ayl\",\"bs\",\"ui\",\"shr\",\"lvr\",\"yld\",\"msn\",\"zem\",\"dmx\",\"pm\",\"som\",\"adb\",\"tdd\",\"soc\",\"adp\",\"vm\",\"spx\",\"nat\",\"ob\",\"adt\",\"got\",\"mf\",\"emx\",\"sy\"],\"bSize\":2,\"time\":30000,\"ngGroups\":[\"amb\",\"bt\",\"di\",\"rbh\"]},\"logurls\":{\"req\":\"https:\\\\/\\\\/hblg.media.net\\\\/log?logid=kfk&evtid=cflog\",\"res\":\"https:\\\\/\\\\/hblg.media.net\\\\/log?logid=kfk&evtid=crlog\"},\"info\":{\"domain\":\".media.net\",\"cid\":\"8CU2553YN\"},\"gdpr\":false,\"gdprconsent\":null,\"gdprstring\":null,\"cookieDeletionList\":[],\"ccpa\":false,\"ccpaconsent\":\"1\",\"csloggerUrl\":\"https:\\\\/\\\\/cslogger.media.net\\\\/log?logid=kfk&evtid=cs&del=%3Cdel%3E&vsid=%3Cvsid%3E&origin=1&flt=0\"};\\nwindow._mNCk=window._mNCk||{},function(t,e,r,n){\"use strict\";function o(t){return\"function\"==typeof t}function i(t){return\"[object Array]\"===Object.prototype.toString.call(t)}function a(t){switch(typeof t){case\"string\":return s(t)&&(\"1\"===t||\"true\"===t);case\"number\":return 0!==t;case\"boolean\":return t;case\"object\":return null!==t;default:return!1}}function u(t){return s(t)?encodeURIComponent(t):\"\"}function c(t){if(!s(t))return\"\";try{return decodeURIComponent(t)}catch(e){return t}}function s(t){return void 0!==t&&\"\"!==t&&null!==t}function l(t,e){if(!s(e)||!s(t))return\"\";if(i(e)){var r,n,o=\"\";for(r=0,n=e.length;r<n;r++)o+=\"&\"+t+\"[]=\"+e[r];return o}return\"&\"+t+\"=\"+e}function f(t,e){var r,n=\"\",o=!!e,i=o?e:t;for(r in i)i.hasOwnProperty(r)&&(o&&(r=e[r]),s(t[r])&&(n+=l(r,t[r])));return n}function p(t){if(!s(t))return{};var e,r,n,o,i={};if(e=t.indexOf(\"?\"),e===-1)return i;for(r=t.substring(e+1).split(\"&\"),n=r.length;n--;)o=r[n].split(\"=\"),i[o[0]]=o[1];return i}function m(t){this.url=t,this.map=p(this.url)}function h(t){var e={};this.set=function(t,r){return e[t]=r,this},this.get=function(t){return a(e[t])?e[t]:\"\"},this.loadFrom=function(t){return t&&(e=t),this},this.serialize=function(){return e},this[\"delete\"]=function(t){delete e[t]},t&&(e=t)}function y(t,e){if(a(t)){var r=0,n=t.length;if(i(t))for(;r<n;r++)e.call(t[r],t[r],r,n);else for(r in t)t.hasOwnProperty(r)&&e.call(t[r],t[r],r,0)}}function d(t,e){if(F(t)){o(e)||(e=function(t,e){return!!t});var r,n=0,a=t.length;if(i(t)){for(;n<a;n++)if(r=e.call(t[n],t[n],n),F(r))return r}else for(n in t)if(t.hasOwnProperty(n)&&(r=e.call(t[n],t[n],n),F(r)))return r}}function g(t,e){if(!a(t))return[];var r;o(e)||(e=function(t,e){return!!t});var n=0,u=t.length;if(i(t))for(r=[];n<u;n++)e.call(t[n],t[n],n)&&r.push(t[n]);else{r={};for(n in t)t.hasOwnProperty(n)&&e.call(t[n],t[n],n)&&(r[n]=t[n])}return r}function v(t){return t?void(this.frame=t.document.createElement(\"iframe\")):void(this.frame=e.createElement(\"iframe\"))}function S(t){var r=new RegExp(t+\"=([^;]+)\"),n=r.exec(e.cookie);return null!==n?c(n[1]):\"\"}function w(t,r,n,o,i,a,c,s,l){var f,p=new Date;p.setTime(p.getTime()),n&&(f=1e3*n*60*60*24),c&&(f=1e3*c*60),s&&(f=1e3*s),l||(r=u(r));var m=new Date(p.getTime()+f);e.cookie=t+\"=\"+r+(f?\";expires=\"+m.toGMTString():\"\")+(o?\";path=\"+o:\"\")+(i?\";domain=\"+i:\"\")+(a?\";secure\":\"\")}function E(){var e=t.location.hostname,r=e.split(\"\").reverse().join(\"\"),o=new RegExp(\"([^\\\\\\\\.]+)\\\\\\\\.([^\\\\\\\\.]+)\\\\\\\\.\"),i=o.exec(r);return null!==i?i[0].split(\"\").reverse().join(\"\"):n.info&&n.info.domain}function P(e){var r=t.location.search,n=new RegExp(e+\"=([^&]+)\"),o=n.exec(r);return null!==o?decodeURIComponent(o[1]):null}function b(t,e){return Math.floor(Math.random()*(e-t+1)+t)}function O(e){if(!o(t.btoa))return\"\";try{return t.btoa(e)}catch(r){return\"\"}}function x(t,e){for(var r in e)e.hasOwnProperty(r)&&(t[r]=e[r]);return t}function F(t){switch(typeof t){case\"string\":return void 0!==t&&\"\"!==t&&null!==t;case\"object\":return null!==t;case\"number\":case\"boolean\":return!0;default:return!1}}function C(){return!!(t.JSON&&t.JSON.parse&&\"function\"==typeof JSON.parse&&t.JSON.stringify&&\"function\"==typeof JSON.stringify)}function N(){var e=\"mntest\";try{if(\"localStorage\"in t&&null!==t.localStorage)return t.localStorage.setItem(e,e),t.localStorage.removeItem(e),C()}catch(r){}return!1}function k(t,r,n,o){if(s(t)){if(\"http\"!==t.substr(0,4)&&n===!0){var i=\"https:\"===e.location.protocol;t=(i?\"https:\":\"http:\")+t}var a=e.createElement(\"script\"),u=e.getElementsByTagName(\"script\")[0],c=!1;a.type=\"text/javascript\",a.async=!0,o&&o.crossOrigin&&(a.crossOrigin=\"anonymous\"),r&&\"function\"==typeof r&&(a.onload=a.onreadystatechange=function(){if(!(c||this.readyState&&\"loaded\"!==this.readyState&&\"complete\"!==this.readyState)){c=!0;try{r()}catch(t){}}}),a.src=t,u.parentNode.insertBefore(a,u)}}function A(t,e,r){return t.replace(new RegExp(e,\"g\"),r)}function j(t){var r=(new v).set(\"src\",t).set(\"marginWidth\",0).set(\"marginHeight\",0).set(\"scrolling\",\"no\").setStyle({display:\"none\"}).done();e.getElementsByTagName(\"body\")[0].appendChild(r)}function R(t,r,n){var i=e.createElement(\"script\");o(n)&&(i=n(i,r)),i.src=t;var a=e.getElementsByTagName(\"script\")[0];a.parentNode.insertBefore(i,a)}function T(t){(new Image).src=t}function I(t){return F(t)?t.replace(/^[\\\\s\\\\uFEFF\\\\xA0]+|[\\\\s\\\\uFEFF\\\\xA0]+$/g,\"\"):\"\"}function U(t,e,r){return r=r||null,e=e||[],function(){var n=e.slice(0);return arguments.length>0&&Array.prototype.push.apply(n,Array.prototype.slice.call(arguments)),t.apply(r,n)}}function B(){return\"https:\"==e.location.protocol?\"https\":\"http\"}function J(t,e){t.super_=e;for(var r in e.prototype)t.prototype[r]=e.prototype[r];t.prototype.constructor=t}var L={addEvent:function(t,e,r){t.addEventListener?t.addEventListener(e,r,!1):t.attachEvent&&t.attachEvent(\"on\"+e,r),t=null},removeEvent:function(t,e,r){t.removeEventListener?t.removeEventListener(e,r):t.detachEvent&&t.detachEvent(\"on\"+e,r),t=null}};m.prototype.getParam=function(t){return this.map[t]||\"\"},m.prototype.getParamAsQuery=function(t,e){return e||(e=t),this.map[t]&&\"\"!==this.map[t]?[\"&\",e,\"=\",this.map[t]].join(\"\"):\"\"},m.prototype.getDecodedParam=function(t){var e=this.map[t];return e&&c(e)||\"\"},v.prototype.set=function(t,e){return this.frame[t]=e,this},v.prototype.setStyle=function(t){var e;for(e in t)t.hasOwnProperty(e)&&(this.frame.style[e]=t[e]);return this},v.prototype.overrideStyle=function(t){return this.frame.style.cssText=t,this},v.prototype.done=function(){return this.frame},r.util=r.util||{replaceAll:A,loadScript:k,isArray:i,isFunction:o,decodeParam:c,encodeParam:u,isOptionSet:a,isStringSet:s,getQueryParamString:l,buildUrlParameters:f,Map:h,each:y,any:d,filter:g,CreateFrame:v,getParamValueFromUrlAsArray:p,GetParamValueFromUrl:m,setCookie:w,getCookie:S,getDomainForCookie:E,getQueryParamValueFromCheckSyncUrl:P,getRandom:b,b64encode:O,isSet:F,eventLib:L,extend:x,setScript:R,setFrame:j,setImage:T,getProxy:U,getProtocol:B,supportStorage:N,trim:I,inherits:J}}(window,document,window._mNCk,window.cookieSyncConfig);!function(){\"use strict\";function o(o){return\"[object Array]\"===Object.prototype.toString.call(o)}function e(o){return void 0!==o&&\"\"!==o&&null!==o}function n(o){return\"function\"==typeof o}function t(t,i,r){return n(i)&&(r=i,i=[]),!!(e(t)&&o(i)&&n(r))&&void(c[t]={deps:i,callback:r})}function i(o,e){var t,r=[];for(var f in o)if(o.hasOwnProperty(f)){if(t=o[f],\"object\"==typeof t||\"undefined\"==typeof t){r.push(t);continue}void 0!==u[t]?r.push(u[t]):(u[t]=i(c[t].deps,c[t].callback),r.push(u[t]))}return n(e)?e.apply(this,r):r}var r,u={},c={};r=\"undefined\"!=typeof global&&\"object\"==typeof module?global:window,r._cookieRequire=i,r._cookieDefine=t}();_cookieDefine(\"config\",[window,document,cookieSyncConfig],function(e,i,n){\"use strict\";var o,c=n||{};try{o=e._cookieRequire([\"cm\"])[0]}catch(t){o=null}return o&&(c=o.getConfigSettings()||{}),c});_cookieDefine(\"em\",[window._mNCk.util,\"config\",\"cksync\"],function(n,t,e){\"use strict\";function r(n){if(void 0!==A[n])return A[n];try{A[n]=window._cookieRequire([n])[0]}catch(t){A[n]=null}return A[n]}function o(){return t.lookup}function i(){return t.cookieDeletionList}function c(){return t.gdpr}function u(){return t.gdprconsent}function g(){return t.gdprstring}function a(){return t.cmode}function f(){return t.ccpa}function s(){return t.ccpaconsent}function l(){return t.info&&t.info.aacxc||\"\"}function C(){return t.info&&t.info.mnCheckSyncUrl||\"\"}function h(){return t.info&&t.info.cid||\"\"}function p(){return t.cs}function d(){return t.visitor}function k(){return t.logurls}function b(){return t.sovBeaconProperties}function v(){return t.datalen}function G(){return t.aax||!1}function S(){return t.batch||null}function m(){return t.batch&&t.batch.time||3e5}function D(){return t.batch&&t.batch.gGroups||[]}function U(){return t.batch&&t.batch.ngGroups||[]}function y(){return t.batch&&t.batch.bSize||2}function B(){return t.csloggerUrl}function L(){return t.visitor&&t.visitor.vsCk}function w(){return t.rtus||{}}var A={};return{require:r,getLookUpTable:o,getListOfCookiesForDeletion:i,getGDPRFlag:c,getGDPRConsent:u,getGdprConsentString:g,isCouplingMode:a,getAAXCookieSyncUrl:l,getMnetCheckSyncUrl:C,getCustomerID:h,getCookieSource:p,getVsyncConfig:d,getLogUrls:k,getDataCookieLength:v,getSovrnBeaconProperties:b,isAccetableAdsExchange:G,getGuaranteedGroups:D,getNonGuaranteedGroups:U,getBatchSize:y,getBatchInterval:m,isBatchingEnabled:S,getCsloggerUrl:B,getVsCookieName:L,getCcpaFlag:f,getCcpaConsent:s,getRtusConfig:w}});_cookieDefine(\"lc\",function(){\"use strict\";return{}});_cookieDefine(\"ckc\",function(){\"use strict\";function c(){}return c.GET={},c});_cookieDefine(\"cksync\",function(){\"use strict\";return{}});_cookieDefine(\"res\",function(){\"use strict\";return{}});_cookieDefine(\"sconst\",function(){\"use strict\";function n(){}return n.Key={},n});_cookieDefine(\"rubicon\",[\"em\",\"cksync\",\"res\"],function(t,e,r){\"use strict\";function n(t){switch(t){case\"e\":return\"us-east\";case\"w\":return\"us-west\";case\"d\":return\"us-east\";default:return\"us-east\"}}function s(t){return t.setAttribute(\"data-partner\",\"medianet\"),t.setAttribute(\"data-country\",u.cc),t.setAttribute(\"data-endpoint\",n(u.zone)),t}var u=t.getVsyncConfig();return{setCustomScriptParams:s}});_cookieDefine(\"pxfrutl\",[window._mNCk.util],function(t){\"use strict\";function e(e){t.setFrame(e)}function i(e,i,n){t.setScript(e,i,n)}function n(e){t.setImage(e)}return{setFrame:e,setScript:i,setImage:n}});_cookieDefine(\"cokv\",[window._mNCk.util,\"em\",\"cksync\"],function(e,n,t){\"use strict\";function i(n,t,i){return!!e.isSet(i)&&e.any(i,function(e){var t=new RegExp(e);if(t.test(n))return!0})}function o(e){var n=e.split(s);return n.length>1&&!(parseInt(c)>0&&0===parseInt(n[1])||n[0].length<=1)}function r(n){var t=e.getCookie(n.cookie)||\"\",r=n.name,u=n.purge;return\"\"!==t&&void 0!==t&&o(t)&&!i(t,r,u)}var u=n.getVsyncConfig(),c=n.getCookieSource(),s=u.sepCs;return{hasValidProviderCookie:r}});_cookieDefine(\"drs\",[window,document,window._mNCk.util,\"em\"],function(e,t,i,n){\"use strict\";function o(){var e=n.getGDPRFlag(),t=n.getCcpaFlag();return e||t}return{shouldRestrictCookies:o}});_cookieDefine(\"visitorcksync\",[window._mNCk.util,\"pxfrutl\",\"cokv\",\"lc\",\"em\",\"cksync\",\"prioritydecider\",\"res\"],function(e,r,n,a,i,o,t,c){\"use strict\";function l(){if(\"1\"===A.getParam(\"force\")||A.getParam(\"html\"))return!1;if(0===P.length){var r=i.require(\"lutl\");return r&&e.isFunction(r.handleFailover)&&r.handleFailover(),!0}}function s(r,n){var a=h.vsDaTime;e.setCookie(r,n,\"\",\"/\",e.getDomainForCookie(),\"\",\"\",a,!0)}function u(){for(var e=i.getDataCookieLength(),r=h.vsDaCk,n=h.sepVal,a=[],o=0;o<e;o++)a.push(\"\");a=a.join(n),s(r,a)}function m(r){var n=i.require(\"polymorph\");\"pm\"===r&&n&&e.isFunction(n.doCustomCookieSync)&&n.doCustomCookieSync(P)}function f(){i.isAccetableAdsExchange()&&(y=e.filter(i.getLookUpTable(),function(e){return!e.hasOwnProperty(\"cpvid\")}));var r=i.require(\"ram\");return e.isSet(r)&&e.isFunction(r.initiateTokenSync)&&r.initiateTokenSync(),e.each(t.groupsToSync(y),function(e){m(e),p(e,y[e].urls)}),t.isMoreSyncRequired()}function p(n,a){try{var i=0===e.getCookie(h.vsCk).length,o=C();e.each(a,function(e){var a=e.type,t=e.url,c=e.url_cst;switch(i===!0&&o===!0&&c.length>0&&(a=\"iframe\",t=c),t=d(t),a){case\"iframe\":r.setFrame(t);break;case\"script\":r.setScript(t,n,g);break;default:r.setImage(t)}})}catch(t){}}function v(){var e;return v.VISIT_ID||(e=(new Date).getTime(),v.VISIT_ID=(e+P).slice(-32)),v.VISIT_ID}function d(r){return r=e.replaceAll(r,\"<vsid>\",P),r=e.replaceAll(r,\"<b64vsid>\",e.b64encode(P)),r=e.replaceAll(r,\"<encb64vsid>\",e.encodeParam(e.b64encode(P))),r=e.replaceAll(r,e.encodeParam(\"<vsid>\"),P),r=e.replaceAll(r,\"<refUrl>\",A.getParam(\"refUrl\")),r=e.replaceAll(r,e.encodeParam(\"<refUrl>\"),e.encodeParam(A.getParam(\"refUrl\"))),r=e.replaceAll(r,\"<vid>\",v()),r=e.replaceAll(r,e.encodeParam(\"<vid>\"),v()),r=e.replaceAll(r,\"${GDPR}\",i.getGDPRFlag()),r=e.replaceAll(r,\"${GDPR_CONSENT}\",i.getGdprConsentString())}function g(r,n){var a=i.require(\"rubicon\");return\"rbcn\"===n&&a&&e.isFunction(a.setCustomScriptParams)&&(r=a.setCustomScriptParams(r)),r}function k(){var a,o=i.getAAXCookieSyncUrl()||\"\",t=h.sepCs;e.each(y,function(i){if(n.hasValidProviderCookie(i)){var c=i.name,l=i.cookie,s=e.getCookie(l),u=s.split(t);a=o,a=e.replaceAll(a,\"<pname>\",c),a=e.replaceAll(a,\"<cvalue>\",u[0]),r.setImage(a)}else p(i.name,i.urls)})}function C(){var r=new e.GetParamValueFromUrl(window.location.href);return\"1\"===r.getParam(\"html\")}var h=i.getVsyncConfig(),P=e.getCookie(h.vsCk),y=i.getLookUpTable(),A=new e.GetParamValueFromUrl(window.location.href);return C()&&(P=h.visitorId),{shouldFailover:l,verifyUserData:u,sync:f,syncCookieForCouplingMode:k}});_cookieDefine(\"prioritydecider\",[window._mNCk.util,\"cokv\",\"em\",\"cksync\"],function(n,e,t,i){\"use strict\";function r(n){return v=n,t.isBatchingEnabled()?(p=a(),l=l||s(),o(),c(),g()):(u(),g())}function u(){n.each(v,function(n,e){k(e)})}function o(){n.isSet(o.cookieSynced)||(o.cookieSynced=!0,n.each(p,function(n){var e=f(n);k(e)}))}function c(){for(var n,e=t.getBatchSize();h(e);)n=f(l.shift()),k(n)&&e--}function f(e){return n.any(v,function(n,t){if(e===d(t))return t})||\"\"}function a(){return n.extend([],t.getGuaranteedGroups())}function s(){return n.extend([],t.getNonGuaranteedGroups())}function d(n){return v[n].name}function h(n){return n>0&&S()}function S(){return n.isSet(l)&&l.length>0}function k(t){return!(!n.isSet(t)||e.hasValidProviderCookie(v[t]))&&(G.push(t),!0)}function y(){G=[]}function g(){var n=G;return y(),n}var v,p,l,G=[];return{groupsToSync:r,isMoreSyncRequired:S}});_cookieDefine(\"nextservice\",[window._mNCk.util,\"res\",\"em\"],function(e,t,n){\"use strict\";function i(t){e.isSet(t.data)&&\"nextCall\"===t.data&&(o(),e.isSet(d)&&d())}function o(){e.isSet(r)&&(r=clearTimeout(r))}function c(){o(),e.isFunction(d)&&(r=setTimeout(d,n.getBatchInterval()))}function a(){o(),e.eventLib.removeEvent(window,\"message\",i)}function s(e){d=e}function u(){c()}var r,d;return e.eventLib.addEvent(window,\"message\",i),{addCallBack:s,stopPeriodicSync:a,startPeriodicSync:u}});_cookieDefine(\"mnsync\",[window,window._mNCk.util,\"em\",\"visitorcksync\",\"cksync\",\"res\",\"nextservice\",\"drs\"],function(e,i,o,n,t,r,s,c){\"use strict\";function u(){return\"1\"===i.getQueryParamValueFromCheckSyncUrl(\"hb\")}function a(){return i.isStringSet(i.getCookie(\"mnet_optout\"))}function k(o){if(e.parent&&i.isFunction(e.parent.postMessage)&&u()&&!a()){var n=i.getCookie(o);i.isStringSet(n)?e.parent.postMessage(\"3PCookieSupported\",\"*\"):e.parent.postMessage(\"3PCookieNotSupported\",\"*\")}}function d(){if(o.isAccetableAdsExchange()){var e=o.require(\"couplecookiesync\");i.isOptionSet(e)&&i.isFunction(e.init)&&e.init()}}function C(){var e=n.sync();return e===!0?void s.startPeriodicSync():void s.stopPeriodicSync()}function l(){if(k(p.vsCk),c.shouldRestrictCookies()){var e=o.require(\"cookiedeleteservice\"),t=o.getListOfCookiesForDeletion();i.isSet(e)&&e.deleteCookiesFromList(t)}if(!n.shouldFailover()){o.isCouplingMode()?n.syncCookieForCouplingMode():(s.addCallBack(C),C()),d();var r=o.require(\"sovbeaconutil\");r&&i.isFunction(r.sovrnCookieCheck)&&r.sovrnCookieCheck()&&r.fireSovrnBeacon()}}var p=o.getVsyncConfig();o.require(\"lutl\");return{init:l}}),window._cookieRequire([\"mnsync\"],function(e){\"use strict\";e.init()});} catch (err) {\\n    window.cookieSyncConfig.error = err;\\n    window.cookieSyncConfig.catchConstants = {\"name\":\"checksync\",\"type\":\"CHECKSYNC\",\"svr\":\"2020040706_784\",\"servname\":\"c8-web-22\",\"message\":\"checksync encountered an error\",\"path\":\"\\\\/nerrping.php\",\"customerId\":\"8CU2553YN\",\"hostName\":\"https:\\\\/\\\\/hblg.media.net\",\"get\":{\"userAgent\":\"userAgent\",\"requrl\":\"requrl\",\"cid\":\"cid\",\"img\":\"img\",\"d\":\"d\"}};!function(e,r){\"use strict\";r=r||{},r.get=r.get||{},e=e||{};var o={},a=\"\",t=encodeURIComponent(window.navigator.userAgent);a=e.stack?e.stack:e.s?e.s:e.stacktrace?e.stacktrace:\"No StackTrace\";var n=\"\";for(var s in e)e.hasOwnProperty&&e.hasOwnProperty(s)&&(n+=s+\" : \\'\"+e[s]+\"\\',\");o.logLevel=3,o.errorVal={},o.errorVal.name=r.name,o.errorVal.type=r.type,o.errorVal.svr=r.svr,o.errorVal.servname=r.servname,o.errorVal.message=r.message,o.errorVal.stack=a,o.errorVal.objTrace=n;var c=\"\";c=\"object\"==typeof JSON&&\"undefined\"!=typeof JSON.stringify?JSON.stringify(o):o.errorVal.name+\"@#@\"+o.errorVal.type+\"@#@\"+a+\"@#@\"+n,c=encodeURIComponent(\"[\"+c+\"]\");var g=r.hostName+r.path+\"?\"+r.get.userAgent+\"=\"+t+\"&\"+r.get.requrl+\"=\"+encodeURIComponent(window.location.href)+\"&\"+r.get.cid+\"=\"+r.customerId+\"&\"+r.get.img+\"=logo.gif&\"+r.get.d+\"=\"+c,i=new Image;i.src=g}(window.cookieSyncConfig.error,window.cookieSyncConfig.catchConstants);};</script></body></html>'"
      ]
     },
     "execution_count": 178,
     "metadata": {},
     "output_type": "execute_result"
    }
   ],
   "source": [
    "url = \"https://www.nytimes.com/crosswords/game/daily/2020/01/26\"\n",
    "driver.get(url)\n",
    "driver.switch_to.frame(driver.find_element_by_id(\"_mN_cksync_0\"))\n",
    "html_source = driver.page_source\n",
    "html_source"
   ]
  },
  {
   "cell_type": "code",
   "execution_count": 179,
   "metadata": {
    "scrolled": true
   },
   "outputs": [
    {
     "name": "stdout",
     "output_type": "stream",
     "text": [
      "{'2020-01-26': ('22:55', 'g\"By ERIK AGARD', ['It got some \"Xtra\" flavor in 2001', 'San Antonio pro', 'Atkins diet no-no', \"What's called a cashpoint by Brits\", 'Wage ___', 'Add to the team', '___ squash', 'One-named singer with the 2014 hit \"Chandelier\"', '*Looks that can be difficult to pull off', '*\"It\\'s 2 a.m. already?!\"', 'Half up-front?', 'Tikka masala go-with', 'Gravitate (toward)', 'Singer Morissette', 'Actress de Armas of \"Knives Out\"', '\"How was ___ know?\"', 'Place for speakers', 'Trig function', '*Data visuals similar to histograms', '*Swimming hazards in the ocean', 'Crossword-loving detective on \"Brooklyn Nine-Nine\"', '___ Dhabi', 'Celebrations of lives, for short', 'Dance arrangements, familiarly', 'One making frequent pitching changes?', 'Back of the neck', \"It's spoken in Aberdeen\", '\"Who ___ knows?\"', 'Elderly', '\"I call dibs!\"', \"[I'm mad!]\", 'Honor for a play', 'Place in the earth', 'South African currency', 'Operatic showpiece', '*\"Man, that was cheap!\"', '*Holder of the single-game W.N.B.A. scoring record (53 points)', 'Something to do before a deal', 'Super, in slang', 'Lisa who \"ate no basil,\" in a palindrome', 'Missiles and such', 'Animal in a \"Sound of Music\" song', 'Big Super Bowl purchase', 'Easy as falling off ___', 'Nickname for a really thin guy', 'What Mercury and Venus lack', \"Religious observance that's also a past-tense verb\", '\"That ship has sailed\"', 'Small-time', 'Cause of red-eye', 'Ate', 'Regret', '*Diner choice', '*Something visually arresting', 'Chief', 'Coin with 12 stars on one side', 'Ancient greeting', 'El Misisipi, e.g.', 'Source of some South American wool', 'Get groceries, say', 'Sole', 'Film excerpt', '*Duplicate, in word processing', '*Disappear suddenly', 'Long-handled tool', 'One with a track record', 'Spore producer', 'Keys of some songs', 'Loan fig.', 'Political worker', '\"A fickle food,\" per Emily Dickinson', 'Superlatively pleasant', \"Children's playroom, often\", 'Zen garden accessory', 'Running argument?', 'Frame in a box score', 'Hebrew for \"son\"', '___ Mawr College', \"Sword's place\", 'Almost a score of Mozart compositions', 'Receptacle for ancient Greek votes', '11-Down and such', 'Small siestas', 'Low-pH', 'Follower of CD', 'La ___ Tar Pits', 'Donkeyish', 'Have a connection with', 'Hordes', 'Org. behind 14 of the 15 most-watched TV broadcasts in U.S. history', 'Capital of the Indian state of Rajasthan', 'They help with printing and pointing', 'Made line changes', 'Body of water greatly shrunk by 1960s Soviet irrigation', 'To the point', 'Howl', 'Opposite of the Latin \"odi\"', 'Busy as ___', 'Less green, say', 'Title woman in a #1 Beach Boys hit', 'Learn by ___', 'Score of zero, in slang', 'Ins', 'Pollution portmanteau', \"People who would object to this clue because of it's punctuation\", 'Fixes', 'Issa of \"Insecure\"', '\"How disastrous!\"', '\"No way!\"', 'Nonnegotiable things', 'Sound a warning', 'Spanish month that anagrams to a zodiac sign', 'Bit of gum', '___-faire', 'Birds on Minnesota state quarters', 'Bad smell', '\"Ugh!\"', '-elect', 'Alarmingly', 'Daytime TV fare', 'Back-to-school time', '\"Well, that\\'s that!\"', 'Follower of 76-Down: Abbr.', 'Suffix with election', \"Skater's leap\", 'Candy discard', 'Not to go', 'Ballroom dance from Cuba', 'Sent packing', 'Actress De Carlo of \"The Munsters\"', 'Out-eat?', \"E.M.T.'s procedure\", 'Tiny battery', 'Smoke', 'Welsh form of \"John\"', 'Goddess pictured with a solar disk above her', 'Excellent, in dated slang', 'Grade school subj.', 'Shade of green', 'Muslim-American icon'])}\n"
     ]
    }
   ],
   "source": [
    "\n",
    "def daterange(start_date, end_date):\n",
    "    for n in range(int ((end_date - start_date).days)):\n",
    "        yield start_date + timedelta(n)\n",
    "\n",
    "puzzle_dict = {}\n",
    "start_date = date(2017, 1, 1)\n",
    "end_date = date(2019, 1, 27)\n",
    "\n",
    "for single_date in daterange(start_date, end_date):\n",
    "    url = \"https://www.nytimes.com/crosswords/game/daily/\" + single_date.strftime(\"%Y/%m/%d\") + \"/\"\n",
    "    driver.get(url)\n",
    "    clue_element = driver.find_elements_by_class_name(\"Clue-text--3lZl7\")\n",
    "    clue = [x.text for x in clue_element]\n",
    "    author_element = driver.find_elements_by_class_name(\"PuzzleDetails-byline--16J5w\")\n",
    "    for x in author_element:\n",
    "        byline = x.text[16:]\n",
    "        byline_split = byline.split('Edited')\n",
    "        author = byline_split[0]\n",
    "    timer_element = driver.find_elements_by_class_name('timer-count')\n",
    "    timer = [x.text for x in timer_element]\n",
    "    puzzle_dict[single_date.strftime(\"%Y-%m-%d\")] = (timer[0], author, clue)\n",
    "    time.sleep(15)\n",
    "print(puzzle_dict)\n"
   ]
  },
  {
   "cell_type": "code",
   "execution_count": 141,
   "metadata": {},
   "outputs": [
    {
     "data": {
      "text/html": [
       "<div>\n",
       "<style scoped>\n",
       "    .dataframe tbody tr th:only-of-type {\n",
       "        vertical-align: middle;\n",
       "    }\n",
       "\n",
       "    .dataframe tbody tr th {\n",
       "        vertical-align: top;\n",
       "    }\n",
       "\n",
       "    .dataframe thead th {\n",
       "        text-align: right;\n",
       "    }\n",
       "</style>\n",
       "<table border=\"1\" class=\"dataframe\">\n",
       "  <thead>\n",
       "    <tr style=\"text-align: right;\">\n",
       "      <th></th>\n",
       "      <th>solve_time</th>\n",
       "      <th>author</th>\n",
       "      <th>clues</th>\n",
       "    </tr>\n",
       "  </thead>\n",
       "  <tbody>\n",
       "    <tr>\n",
       "      <th>2020-01-27</th>\n",
       "      <td>6:39</td>\n",
       "      <td>TIMOTHY POLIN</td>\n",
       "      <td>[iPhone downloads, Breakfast, lunch and dinner...</td>\n",
       "    </tr>\n",
       "    <tr>\n",
       "      <th>2020-01-28</th>\n",
       "      <td>5:48</td>\n",
       "      <td>TRENTON CHARLSON</td>\n",
       "      <td>[Sigh of satisfaction, Longtime SeaWorld attra...</td>\n",
       "    </tr>\n",
       "  </tbody>\n",
       "</table>\n",
       "</div>"
      ],
      "text/plain": [
       "           solve_time            author  \\\n",
       "2020-01-27       6:39     TIMOTHY POLIN   \n",
       "2020-01-28       5:48  TRENTON CHARLSON   \n",
       "\n",
       "                                                        clues  \n",
       "2020-01-27  [iPhone downloads, Breakfast, lunch and dinner...  \n",
       "2020-01-28  [Sigh of satisfaction, Longtime SeaWorld attra...  "
      ]
     },
     "execution_count": 141,
     "metadata": {},
     "output_type": "execute_result"
    }
   ],
   "source": [
    "pd.DataFrame.from_dict(puzzle_dict, orient='index', columns=['solve_time', 'author', 'clues'])"
   ]
  },
  {
   "cell_type": "code",
   "execution_count": null,
   "metadata": {
    "collapsed": true
   },
   "outputs": [],
   "source": []
  },
  {
   "cell_type": "code",
   "execution_count": null,
   "metadata": {
    "collapsed": true
   },
   "outputs": [],
   "source": []
  },
  {
   "cell_type": "markdown",
   "metadata": {},
   "source": [
    "{'2020-01-25': ['18:33'], '2020-01-26': ['0:00'], '2020-01-27': ['6:39'], '2020-01-28': ['5:48'], '2020-01-29': ['11:10']}\n",
    "CPU times: user 33.8 ms, sys: 9.03 ms, total: 42.9 ms\n",
    "Wall time: 1min 37s"
   ]
  },
  {
   "cell_type": "markdown",
   "metadata": {},
   "source": [
    "{'2020-01-15': ['10:03'], '2020-01-16': ['20:22'], '2020-01-17': ['11:33'], '2020-01-18': ['11:46'], '2020-01-19': ['35:18'], '2020-01-20': ['6:48'], '2020-01-21': ['9:52'], '2020-01-22': ['14:56'], '2020-01-23': ['15:32'], '2020-01-24': ['15:52'], '2020-01-25': ['18:33'], '2020-01-26': ['0:00'], '2020-01-27': ['6:39'], '2020-01-28': ['5:48'], '2020-01-29': ['11:10']}"
   ]
  },
  {
   "cell_type": "code",
   "execution_count": null,
   "metadata": {
    "collapsed": true
   },
   "outputs": [],
   "source": []
  },
  {
   "cell_type": "code",
   "execution_count": null,
   "metadata": {
    "collapsed": true
   },
   "outputs": [],
   "source": [
    "\n"
   ]
  },
  {
   "cell_type": "code",
   "execution_count": null,
   "metadata": {
    "collapsed": true
   },
   "outputs": [],
   "source": []
  },
  {
   "cell_type": "code",
   "execution_count": null,
   "metadata": {
    "collapsed": true
   },
   "outputs": [],
   "source": []
  },
  {
   "cell_type": "code",
   "execution_count": null,
   "metadata": {
    "collapsed": true
   },
   "outputs": [],
   "source": []
  },
  {
   "cell_type": "code",
   "execution_count": null,
   "metadata": {
    "collapsed": true
   },
   "outputs": [],
   "source": []
  },
  {
   "cell_type": "code",
   "execution_count": null,
   "metadata": {
    "collapsed": true
   },
   "outputs": [],
   "source": [
    "crossword_url = \"https://www.nytimes.com/crosswords/game/daily/2020/02/20\"\n",
    "\n",
    "driver.get(crossword_url)\n",
    "driver.implicitly_wait(10)\n",
    "html_source = driver.page_source\n",
    "\n",
    "print(len(html_source))"
   ]
  },
  {
   "cell_type": "code",
   "execution_count": 28,
   "metadata": {
    "collapsed": true
   },
   "outputs": [],
   "source": [
    "pages = 1\n",
    "\n",
    "for page in range(1,pages):\n",
    "\n",
    "    url = \"https://www.nytimes.com/crosswords/game/daily/2020/04/\" + str(page) + \"/\"\n",
    "\n",
    "    driver.get(url) \n",
    "\n",
    "    #items = len(driver.find_elements_by_class_name(\"timer-count\"))\n",
    "\n",
    "    #total = []\n",
    "    #for item in range(items):\n",
    "    timers = driver.find_elements_by_class_name(\"timer-count\")\n",
    "    print(timers)[0]\n",
    "            #time = timer.find_element_by_class_name('text').text\n",
    "            #author = quote.find_element_by_class_name('author').text\n",
    "            #new = ((quote_text,author))\n",
    "            #total.append(time)\n",
    "    #df = pd.DataFrame(total,columns=['quote','author'])\n",
    "    #df.to_csv('quoted.csv')\n",
    "    break\n",
    "#driver.close()"
   ]
  },
  {
   "cell_type": "markdown",
   "metadata": {},
   "source": [
    "\n",
    "\n",
    "pages = 3\n",
    "\n",
    "for page in range(1,pages):\n",
    "\n",
    "    url = \"https://www.nytimes.com/crosswords/game/daily/2020/04/\" + str(page) + \"/\"\n",
    "\n",
    "    driver.get(url) \n",
    "\n",
    "    items = len(driver.find_elements_by_class_name(\"timer-count\"))\n",
    "\n",
    "    total = []\n",
    "    for item in range(items):\n",
    "        timers = driver.find_elements_by_class_name(\"timer-count\")\n",
    "        print(timers)\n",
    "            #time = timer.find_element_by_class_name('text').text\n",
    "            #author = quote.find_element_by_class_name('author').text\n",
    "            #new = ((quote_text,author))\n",
    "            #total.append(time)\n",
    "    df = pd.DataFrame(total,columns=['quote','author'])\n",
    "    df.to_csv('quoted.csv')\n",
    "driver.close()"
   ]
  },
  {
   "cell_type": "code",
   "execution_count": null,
   "metadata": {
    "collapsed": true
   },
   "outputs": [],
   "source": [
    "bbb"
   ]
  },
  {
   "cell_type": "code",
   "execution_count": null,
   "metadata": {
    "collapsed": true
   },
   "outputs": [],
   "source": []
  },
  {
   "cell_type": "code",
   "execution_count": null,
   "metadata": {
    "collapsed": true
   },
   "outputs": [],
   "source": [
    "    driver.switch_to.frame(driver.find_element_by_id(\"_mN_cksync_0\"))\n",
    "    driver.find_element_by_class_name('buttons-modalButton--1REsR buttons-startBtn--3OK72').send_keys(Keys.ENTER)\n",
    "    driver.switch_to_default_content()\n",
    "    #WebDriverWait.until(EC.visibilityOfElementLocated(By.xpath(\"//button[text()='OK']\")));\n",
    "    #WebDriverWAit.until(EC.elementToBeClickable(By.xpath(\"//button[text()='OK']\")));\n",
    "    #driver.findElement(By.xpath(\"//button[text()='OK']\")).click();"
   ]
  },
  {
   "cell_type": "code",
   "execution_count": null,
   "metadata": {
    "collapsed": true
   },
   "outputs": [],
   "source": []
  },
  {
   "cell_type": "code",
   "execution_count": null,
   "metadata": {
    "collapsed": true
   },
   "outputs": [],
   "source": []
  },
  {
   "cell_type": "code",
   "execution_count": 6,
   "metadata": {},
   "outputs": [
    {
     "ename": "NameError",
     "evalue": "name 'strptime' is not defined",
     "output_type": "error",
     "traceback": [
      "\u001b[0;31m---------------------------------------------------------------------------\u001b[0m",
      "\u001b[0;31mNameError\u001b[0m                                 Traceback (most recent call last)",
      "\u001b[0;32m<ipython-input-6-e6e52e10ddad>\u001b[0m in \u001b[0;36m<module>\u001b[0;34m\u001b[0m\n\u001b[1;32m      1\u001b[0m \u001b[0mtime_string\u001b[0m \u001b[0;34m=\u001b[0m \u001b[0;34m\"01:01:09\"\u001b[0m\u001b[0;34m\u001b[0m\u001b[0;34m\u001b[0m\u001b[0m\n\u001b[1;32m      2\u001b[0m \u001b[0;34m\u001b[0m\u001b[0m\n\u001b[0;32m----> 3\u001b[0;31m \u001b[0mdate_time\u001b[0m \u001b[0;34m=\u001b[0m \u001b[0mstrptime\u001b[0m\u001b[0;34m(\u001b[0m\u001b[0mtime_string\u001b[0m\u001b[0;34m,\u001b[0m \u001b[0;34m\"%H:%M:%S\"\u001b[0m\u001b[0;34m)\u001b[0m\u001b[0;34m\u001b[0m\u001b[0;34m\u001b[0m\u001b[0m\n\u001b[0m\u001b[1;32m      4\u001b[0m \u001b[0;34m\u001b[0m\u001b[0m\n\u001b[1;32m      5\u001b[0m \u001b[0;34m\u001b[0m\u001b[0m\n",
      "\u001b[0;31mNameError\u001b[0m: name 'strptime' is not defined"
     ]
    }
   ],
   "source": [
    "\n"
   ]
  },
  {
   "cell_type": "code",
   "execution_count": null,
   "metadata": {
    "collapsed": true
   },
   "outputs": [],
   "source": []
  },
  {
   "cell_type": "code",
   "execution_count": null,
   "metadata": {
    "collapsed": true
   },
   "outputs": [],
   "source": []
  },
  {
   "cell_type": "code",
   "execution_count": 8,
   "metadata": {},
   "outputs": [
    {
     "data": {
      "text/plain": [
       "3669.0"
      ]
     },
     "execution_count": 8,
     "metadata": {},
     "output_type": "execute_result"
    }
   ],
   "source": [
    "time_string = \"01:01:09\"\n",
    "\n",
    "date_time = datetime.datetime.strptime(time_string, \"%H:%M:%S\")\n",
    "\n",
    "a_timedelta = date_time - datetime.datetime(1900, 1, 1)\n",
    "seconds = a_timedelta.total_seconds()\n",
    "\n",
    "seconds"
   ]
  },
  {
   "cell_type": "code",
   "execution_count": null,
   "metadata": {
    "collapsed": true
   },
   "outputs": [],
   "source": []
  },
  {
   "cell_type": "code",
   "execution_count": null,
   "metadata": {
    "collapsed": true
   },
   "outputs": [],
   "source": []
  },
  {
   "cell_type": "code",
   "execution_count": null,
   "metadata": {
    "collapsed": true
   },
   "outputs": [],
   "source": [
    "def daterange(start_date, end_date):\n",
    "\n",
    "    for n in range(int ((end_date - start_date).days)):\n",
    "\n",
    "        yield start_date + timedelta(n)"
   ]
  },
  {
   "cell_type": "code",
   "execution_count": null,
   "metadata": {
    "collapsed": true
   },
   "outputs": [],
   "source": [
    "pages = 5\n",
    "\n",
    "timer_dict = {}\n",
    "\n",
    "for page in range(1,pages):\n",
    "\n",
    "    url = \"https://www.nytimes.com/crosswords/game/daily/2020/03/\" + str(page) + \"/\"\n",
    "    driver.get(url) \n",
    "    driver.implicitly_wait(30)\n",
    "    #time.sleep(30)\n",
    "    timer_element = driver.find_elements_by_class_name('timer-count')\n",
    "    timer = [x.text for x in timer_element]\n",
    "    timer_dict[\"2020/03/\" + str(page)] = timer\n",
    "    driver.implicitly_wait(60)\n",
    "    time.sleep(30)\n",
    "print(timer_dict)"
   ]
  },
  {
   "cell_type": "code",
   "execution_count": 11,
   "metadata": {
    "collapsed": true
   },
   "outputs": [],
   "source": [
    "df = pd.read_csv('puzzledata.csv')"
   ]
  },
  {
   "cell_type": "code",
   "execution_count": 14,
   "metadata": {
    "collapsed": true
   },
   "outputs": [],
   "source": [
    "df = df.drop(columns = 'Unnamed: 0')"
   ]
  },
  {
   "cell_type": "code",
   "execution_count": 15,
   "metadata": {},
   "outputs": [
    {
     "data": {
      "text/html": [
       "<div>\n",
       "<style scoped>\n",
       "    .dataframe tbody tr th:only-of-type {\n",
       "        vertical-align: middle;\n",
       "    }\n",
       "\n",
       "    .dataframe tbody tr th {\n",
       "        vertical-align: top;\n",
       "    }\n",
       "\n",
       "    .dataframe thead th {\n",
       "        text-align: right;\n",
       "    }\n",
       "</style>\n",
       "<table border=\"1\" class=\"dataframe\">\n",
       "  <thead>\n",
       "    <tr style=\"text-align: right;\">\n",
       "      <th></th>\n",
       "      <th>date</th>\n",
       "      <th>solve time (seconds)</th>\n",
       "      <th>author</th>\n",
       "      <th>clues</th>\n",
       "      <th>day</th>\n",
       "    </tr>\n",
       "  </thead>\n",
       "  <tbody>\n",
       "    <tr>\n",
       "      <th>0</th>\n",
       "      <td>2017-01-01</td>\n",
       "      <td>2033.0</td>\n",
       "      <td>MATTHEW SEWELL</td>\n",
       "      <td>['Sponged', 'Asylum', 'Takes from page to scre...</td>\n",
       "      <td>Sunday</td>\n",
       "    </tr>\n",
       "    <tr>\n",
       "      <th>1</th>\n",
       "      <td>2017-01-02</td>\n",
       "      <td>530.0</td>\n",
       "      <td>CHUCK DEODENE</td>\n",
       "      <td>[\"Leatherworker's tool\", 'Wrath', 'Sauce often...</td>\n",
       "      <td>Monday</td>\n",
       "    </tr>\n",
       "    <tr>\n",
       "      <th>2</th>\n",
       "      <td>2017-01-03</td>\n",
       "      <td>630.0</td>\n",
       "      <td>MICHAEL SHTEYMAN</td>\n",
       "      <td>['Misgiving', 'Small quarrel', 'Leader from th...</td>\n",
       "      <td>Tuesday</td>\n",
       "    </tr>\n",
       "    <tr>\n",
       "      <th>3</th>\n",
       "      <td>2017-01-04</td>\n",
       "      <td>1217.0</td>\n",
       "      <td>SAMUEL A. DONALDSON</td>\n",
       "      <td>['Bee ball?', 'Somewhat', \"Historian's focus\",...</td>\n",
       "      <td>Wednesday</td>\n",
       "    </tr>\n",
       "    <tr>\n",
       "      <th>4</th>\n",
       "      <td>2017-01-05</td>\n",
       "      <td>1091.0</td>\n",
       "      <td>ED SESSA</td>\n",
       "      <td>['Half of a Wall Street firm since 1882', 'One...</td>\n",
       "      <td>Thursday</td>\n",
       "    </tr>\n",
       "    <tr>\n",
       "      <th>...</th>\n",
       "      <td>...</td>\n",
       "      <td>...</td>\n",
       "      <td>...</td>\n",
       "      <td>...</td>\n",
       "      <td>...</td>\n",
       "    </tr>\n",
       "    <tr>\n",
       "      <th>725</th>\n",
       "      <td>2018-12-27</td>\n",
       "      <td>670.0</td>\n",
       "      <td>JEFF CHEN and MARY LOU GUIZZO</td>\n",
       "      <td>['___ billiards, game on a pocketless table', ...</td>\n",
       "      <td>Thursday</td>\n",
       "    </tr>\n",
       "    <tr>\n",
       "      <th>726</th>\n",
       "      <td>2018-12-28</td>\n",
       "      <td>773.0</td>\n",
       "      <td>DAVID STEINBERG</td>\n",
       "      <td>['Dominant figure', 'High-end Italian sports c...</td>\n",
       "      <td>Friday</td>\n",
       "    </tr>\n",
       "    <tr>\n",
       "      <th>727</th>\n",
       "      <td>2018-12-29</td>\n",
       "      <td>829.0</td>\n",
       "      <td>ROBYN WEINTRAUB</td>\n",
       "      <td>['First digit', 'Beam at?', '4.93 milliliters:...</td>\n",
       "      <td>Saturday</td>\n",
       "    </tr>\n",
       "    <tr>\n",
       "      <th>728</th>\n",
       "      <td>2018-12-30</td>\n",
       "      <td>1945.0</td>\n",
       "      <td>LUKE VAUGHN</td>\n",
       "      <td>['Fixture on a ski lodge deck', 'Sound quality...</td>\n",
       "      <td>Sunday</td>\n",
       "    </tr>\n",
       "    <tr>\n",
       "      <th>729</th>\n",
       "      <td>2018-12-31</td>\n",
       "      <td>543.0</td>\n",
       "      <td>BRIAN THOMAS</td>\n",
       "      <td>['Exchange after a lecture, informally', 'Room...</td>\n",
       "      <td>Monday</td>\n",
       "    </tr>\n",
       "  </tbody>\n",
       "</table>\n",
       "<p>730 rows × 5 columns</p>\n",
       "</div>"
      ],
      "text/plain": [
       "           date  solve time (seconds)                         author  \\\n",
       "0    2017-01-01                2033.0                MATTHEW SEWELL    \n",
       "1    2017-01-02                 530.0                  CHUCK DEODENE   \n",
       "2    2017-01-03                 630.0               MICHAEL SHTEYMAN   \n",
       "3    2017-01-04                1217.0            SAMUEL A. DONALDSON   \n",
       "4    2017-01-05                1091.0                       ED SESSA   \n",
       "..          ...                   ...                            ...   \n",
       "725  2018-12-27                 670.0  JEFF CHEN and MARY LOU GUIZZO   \n",
       "726  2018-12-28                 773.0                DAVID STEINBERG   \n",
       "727  2018-12-29                 829.0                ROBYN WEINTRAUB   \n",
       "728  2018-12-30                1945.0                   LUKE VAUGHN    \n",
       "729  2018-12-31                 543.0                   BRIAN THOMAS   \n",
       "\n",
       "                                                 clues        day  \n",
       "0    ['Sponged', 'Asylum', 'Takes from page to scre...     Sunday  \n",
       "1    [\"Leatherworker's tool\", 'Wrath', 'Sauce often...     Monday  \n",
       "2    ['Misgiving', 'Small quarrel', 'Leader from th...    Tuesday  \n",
       "3    ['Bee ball?', 'Somewhat', \"Historian's focus\",...  Wednesday  \n",
       "4    ['Half of a Wall Street firm since 1882', 'One...   Thursday  \n",
       "..                                                 ...        ...  \n",
       "725  ['___ billiards, game on a pocketless table', ...   Thursday  \n",
       "726  ['Dominant figure', 'High-end Italian sports c...     Friday  \n",
       "727  ['First digit', 'Beam at?', '4.93 milliliters:...   Saturday  \n",
       "728  ['Fixture on a ski lodge deck', 'Sound quality...     Sunday  \n",
       "729  ['Exchange after a lecture, informally', 'Room...     Monday  \n",
       "\n",
       "[730 rows x 5 columns]"
      ]
     },
     "execution_count": 15,
     "metadata": {},
     "output_type": "execute_result"
    }
   ],
   "source": [
    "df"
   ]
  },
  {
   "cell_type": "code",
   "execution_count": 52,
   "metadata": {},
   "outputs": [
    {
     "ename": "ValueError",
     "evalue": "No axis named author for object type <class 'pandas.core.frame.DataFrame'>",
     "output_type": "error",
     "traceback": [
      "\u001b[0;31m---------------------------------------------------------------------------\u001b[0m",
      "\u001b[0;31mValueError\u001b[0m                                Traceback (most recent call last)",
      "\u001b[0;32m<ipython-input-52-a40877064507>\u001b[0m in \u001b[0;36m<module>\u001b[0;34m\u001b[0m\n\u001b[0;32m----> 1\u001b[0;31m \u001b[0mgrouped\u001b[0m \u001b[0;34m=\u001b[0m \u001b[0mdf\u001b[0m\u001b[0;34m.\u001b[0m\u001b[0mgroupby\u001b[0m\u001b[0;34m(\u001b[0m\u001b[0;34m'day'\u001b[0m\u001b[0;34m,\u001b[0m \u001b[0;34m'author'\u001b[0m\u001b[0;34m)\u001b[0m\u001b[0;34m\u001b[0m\u001b[0;34m\u001b[0m\u001b[0m\n\u001b[0m",
      "\u001b[0;32m/opt/anaconda3/lib/python3.7/site-packages/pandas/core/frame.py\u001b[0m in \u001b[0;36mgroupby\u001b[0;34m(self, by, axis, level, as_index, sort, group_keys, squeeze, observed)\u001b[0m\n\u001b[1;32m   5797\u001b[0m         \u001b[0;32mif\u001b[0m \u001b[0mlevel\u001b[0m \u001b[0;32mis\u001b[0m \u001b[0;32mNone\u001b[0m \u001b[0;32mand\u001b[0m \u001b[0mby\u001b[0m \u001b[0;32mis\u001b[0m \u001b[0;32mNone\u001b[0m\u001b[0;34m:\u001b[0m\u001b[0;34m\u001b[0m\u001b[0;34m\u001b[0m\u001b[0m\n\u001b[1;32m   5798\u001b[0m             \u001b[0;32mraise\u001b[0m \u001b[0mTypeError\u001b[0m\u001b[0;34m(\u001b[0m\u001b[0;34m\"You have to supply one of 'by' and 'level'\"\u001b[0m\u001b[0;34m)\u001b[0m\u001b[0;34m\u001b[0m\u001b[0;34m\u001b[0m\u001b[0m\n\u001b[0;32m-> 5799\u001b[0;31m         \u001b[0maxis\u001b[0m \u001b[0;34m=\u001b[0m \u001b[0mself\u001b[0m\u001b[0;34m.\u001b[0m\u001b[0m_get_axis_number\u001b[0m\u001b[0;34m(\u001b[0m\u001b[0maxis\u001b[0m\u001b[0;34m)\u001b[0m\u001b[0;34m\u001b[0m\u001b[0;34m\u001b[0m\u001b[0m\n\u001b[0m\u001b[1;32m   5800\u001b[0m \u001b[0;34m\u001b[0m\u001b[0m\n\u001b[1;32m   5801\u001b[0m         return groupby_generic.DataFrameGroupBy(\n",
      "\u001b[0;32m/opt/anaconda3/lib/python3.7/site-packages/pandas/core/generic.py\u001b[0m in \u001b[0;36m_get_axis_number\u001b[0;34m(cls, axis)\u001b[0m\n\u001b[1;32m    405\u001b[0m             \u001b[0;32mexcept\u001b[0m \u001b[0mKeyError\u001b[0m\u001b[0;34m:\u001b[0m\u001b[0;34m\u001b[0m\u001b[0;34m\u001b[0m\u001b[0m\n\u001b[1;32m    406\u001b[0m                 \u001b[0;32mpass\u001b[0m\u001b[0;34m\u001b[0m\u001b[0;34m\u001b[0m\u001b[0m\n\u001b[0;32m--> 407\u001b[0;31m         \u001b[0;32mraise\u001b[0m \u001b[0mValueError\u001b[0m\u001b[0;34m(\u001b[0m\u001b[0;34mf\"No axis named {axis} for object type {cls}\"\u001b[0m\u001b[0;34m)\u001b[0m\u001b[0;34m\u001b[0m\u001b[0;34m\u001b[0m\u001b[0m\n\u001b[0m\u001b[1;32m    408\u001b[0m \u001b[0;34m\u001b[0m\u001b[0m\n\u001b[1;32m    409\u001b[0m     \u001b[0;34m@\u001b[0m\u001b[0mclassmethod\u001b[0m\u001b[0;34m\u001b[0m\u001b[0;34m\u001b[0m\u001b[0m\n",
      "\u001b[0;31mValueError\u001b[0m: No axis named author for object type <class 'pandas.core.frame.DataFrame'>"
     ]
    }
   ],
   "source": [
    "grouped = df.groupby('day', 'author')"
   ]
  },
  {
   "cell_type": "code",
   "execution_count": 21,
   "metadata": {
    "collapsed": true
   },
   "outputs": [],
   "source": [
    "times_by_day = grouped.aggregate(np.mean)"
   ]
  },
  {
   "cell_type": "code",
   "execution_count": 23,
   "metadata": {
    "scrolled": true
   },
   "outputs": [
    {
     "data": {
      "text/html": [
       "<div>\n",
       "<style scoped>\n",
       "    .dataframe tbody tr th:only-of-type {\n",
       "        vertical-align: middle;\n",
       "    }\n",
       "\n",
       "    .dataframe tbody tr th {\n",
       "        vertical-align: top;\n",
       "    }\n",
       "\n",
       "    .dataframe thead th {\n",
       "        text-align: right;\n",
       "    }\n",
       "</style>\n",
       "<table border=\"1\" class=\"dataframe\">\n",
       "  <thead>\n",
       "    <tr style=\"text-align: right;\">\n",
       "      <th></th>\n",
       "      <th>solve time (seconds)</th>\n",
       "    </tr>\n",
       "    <tr>\n",
       "      <th>day</th>\n",
       "      <th></th>\n",
       "    </tr>\n",
       "  </thead>\n",
       "  <tbody>\n",
       "    <tr>\n",
       "      <th>Friday</th>\n",
       "      <td>1385.846154</td>\n",
       "    </tr>\n",
       "    <tr>\n",
       "      <th>Monday</th>\n",
       "      <td>703.819048</td>\n",
       "    </tr>\n",
       "    <tr>\n",
       "      <th>Saturday</th>\n",
       "      <td>1675.855769</td>\n",
       "    </tr>\n",
       "    <tr>\n",
       "      <th>Sunday</th>\n",
       "      <td>2731.152381</td>\n",
       "    </tr>\n",
       "    <tr>\n",
       "      <th>Thursday</th>\n",
       "      <td>1381.711538</td>\n",
       "    </tr>\n",
       "    <tr>\n",
       "      <th>Tuesday</th>\n",
       "      <td>1039.826923</td>\n",
       "    </tr>\n",
       "    <tr>\n",
       "      <th>Wednesday</th>\n",
       "      <td>1174.528846</td>\n",
       "    </tr>\n",
       "  </tbody>\n",
       "</table>\n",
       "</div>"
      ],
      "text/plain": [
       "           solve time (seconds)\n",
       "day                            \n",
       "Friday              1385.846154\n",
       "Monday               703.819048\n",
       "Saturday            1675.855769\n",
       "Sunday              2731.152381\n",
       "Thursday            1381.711538\n",
       "Tuesday             1039.826923\n",
       "Wednesday           1174.528846"
      ]
     },
     "execution_count": 23,
     "metadata": {},
     "output_type": "execute_result"
    }
   ],
   "source": [
    "times_by_day"
   ]
  },
  {
   "cell_type": "code",
   "execution_count": 51,
   "metadata": {},
   "outputs": [
    {
     "data": {
      "text/html": [
       "<div>\n",
       "<style scoped>\n",
       "    .dataframe tbody tr th:only-of-type {\n",
       "        vertical-align: middle;\n",
       "    }\n",
       "\n",
       "    .dataframe tbody tr th {\n",
       "        vertical-align: top;\n",
       "    }\n",
       "\n",
       "    .dataframe thead th {\n",
       "        text-align: right;\n",
       "    }\n",
       "</style>\n",
       "<table border=\"1\" class=\"dataframe\">\n",
       "  <thead>\n",
       "    <tr style=\"text-align: right;\">\n",
       "      <th></th>\n",
       "      <th>solve time (seconds)</th>\n",
       "    </tr>\n",
       "    <tr>\n",
       "      <th>day</th>\n",
       "      <th></th>\n",
       "    </tr>\n",
       "  </thead>\n",
       "  <tbody>\n",
       "    <tr>\n",
       "      <th>Monday</th>\n",
       "      <td>703.819048</td>\n",
       "    </tr>\n",
       "    <tr>\n",
       "      <th>Tuesday</th>\n",
       "      <td>1039.826923</td>\n",
       "    </tr>\n",
       "    <tr>\n",
       "      <th>Wednesday</th>\n",
       "      <td>1174.528846</td>\n",
       "    </tr>\n",
       "    <tr>\n",
       "      <th>Thursday</th>\n",
       "      <td>1381.711538</td>\n",
       "    </tr>\n",
       "    <tr>\n",
       "      <th>Friday</th>\n",
       "      <td>1385.846154</td>\n",
       "    </tr>\n",
       "    <tr>\n",
       "      <th>Saturday</th>\n",
       "      <td>1675.855769</td>\n",
       "    </tr>\n",
       "    <tr>\n",
       "      <th>Sunday</th>\n",
       "      <td>2731.152381</td>\n",
       "    </tr>\n",
       "  </tbody>\n",
       "</table>\n",
       "</div>"
      ],
      "text/plain": [
       "           solve time (seconds)\n",
       "day                            \n",
       "Monday               703.819048\n",
       "Tuesday             1039.826923\n",
       "Wednesday           1174.528846\n",
       "Thursday            1381.711538\n",
       "Friday              1385.846154\n",
       "Saturday            1675.855769\n",
       "Sunday              2731.152381"
      ]
     },
     "execution_count": 51,
     "metadata": {},
     "output_type": "execute_result"
    }
   ],
   "source": [
    "sorted_days = times_by_day.sort_values('solve time (seconds)')\n",
    "sorted_days"
   ]
  },
  {
   "cell_type": "code",
   "execution_count": 50,
   "metadata": {},
   "outputs": [
    {
     "data": {
      "text/plain": [
       "<matplotlib.axes._subplots.AxesSubplot at 0x119e81090>"
      ]
     },
     "execution_count": 50,
     "metadata": {},
     "output_type": "execute_result"
    },
    {
     "data": {
      "image/png": "[encoded data removed]",
      "text/plain": [
       "<Figure size 432x288 with 1 Axes>"
      ]
     },
     "metadata": {
      "needs_background": "light"
     },
     "output_type": "display_data"
    }
   ],
   "source": [
    "sorted_days.plot.bar()"
   ]
  },
  {
   "cell_type": "code",
   "execution_count": 55,
   "metadata": {},
   "outputs": [
    {
     "ename": "AttributeError",
     "evalue": "'DataFrame' object has no attribute 'sortby'",
     "output_type": "error",
     "traceback": [
      "\u001b[0;31m---------------------------------------------------------------------------\u001b[0m",
      "\u001b[0;31mAttributeError\u001b[0m                            Traceback (most recent call last)",
      "\u001b[0;32m<ipython-input-55-dcf47f183b38>\u001b[0m in \u001b[0;36m<module>\u001b[0;34m\u001b[0m\n\u001b[0;32m----> 1\u001b[0;31m \u001b[0mdf_sort\u001b[0m \u001b[0;34m=\u001b[0m \u001b[0mdf\u001b[0m\u001b[0;34m.\u001b[0m\u001b[0msortby\u001b[0m\u001b[0;34m(\u001b[0m\u001b[0;34m'author'\u001b[0m\u001b[0;34m)\u001b[0m\u001b[0;34m\u001b[0m\u001b[0;34m\u001b[0m\u001b[0m\n\u001b[0m",
      "\u001b[0;32m/opt/anaconda3/lib/python3.7/site-packages/pandas/core/generic.py\u001b[0m in \u001b[0;36m__getattr__\u001b[0;34m(self, name)\u001b[0m\n\u001b[1;32m   5272\u001b[0m             \u001b[0;32mif\u001b[0m \u001b[0mself\u001b[0m\u001b[0;34m.\u001b[0m\u001b[0m_info_axis\u001b[0m\u001b[0;34m.\u001b[0m\u001b[0m_can_hold_identifiers_and_holds_name\u001b[0m\u001b[0;34m(\u001b[0m\u001b[0mname\u001b[0m\u001b[0;34m)\u001b[0m\u001b[0;34m:\u001b[0m\u001b[0;34m\u001b[0m\u001b[0;34m\u001b[0m\u001b[0m\n\u001b[1;32m   5273\u001b[0m                 \u001b[0;32mreturn\u001b[0m \u001b[0mself\u001b[0m\u001b[0;34m[\u001b[0m\u001b[0mname\u001b[0m\u001b[0;34m]\u001b[0m\u001b[0;34m\u001b[0m\u001b[0;34m\u001b[0m\u001b[0m\n\u001b[0;32m-> 5274\u001b[0;31m             \u001b[0;32mreturn\u001b[0m \u001b[0mobject\u001b[0m\u001b[0;34m.\u001b[0m\u001b[0m__getattribute__\u001b[0m\u001b[0;34m(\u001b[0m\u001b[0mself\u001b[0m\u001b[0;34m,\u001b[0m \u001b[0mname\u001b[0m\u001b[0;34m)\u001b[0m\u001b[0;34m\u001b[0m\u001b[0;34m\u001b[0m\u001b[0m\n\u001b[0m\u001b[1;32m   5275\u001b[0m \u001b[0;34m\u001b[0m\u001b[0m\n\u001b[1;32m   5276\u001b[0m     \u001b[0;32mdef\u001b[0m \u001b[0m__setattr__\u001b[0m\u001b[0;34m(\u001b[0m\u001b[0mself\u001b[0m\u001b[0;34m,\u001b[0m \u001b[0mname\u001b[0m\u001b[0;34m:\u001b[0m \u001b[0mstr\u001b[0m\u001b[0;34m,\u001b[0m \u001b[0mvalue\u001b[0m\u001b[0;34m)\u001b[0m \u001b[0;34m->\u001b[0m \u001b[0;32mNone\u001b[0m\u001b[0;34m:\u001b[0m\u001b[0;34m\u001b[0m\u001b[0;34m\u001b[0m\u001b[0m\n",
      "\u001b[0;31mAttributeError\u001b[0m: 'DataFrame' object has no attribute 'sortby'"
     ]
    }
   ],
   "source": [
    "df_sort = df.sortby('author')"
   ]
  },
  {
   "cell_type": "code",
   "execution_count": 325,
   "metadata": {
    "collapsed": true
   },
   "outputs": [],
   "source": [
    "df = pd.read_csv('puzzles_17_18_19.csv')"
   ]
  },
  {
   "cell_type": "code",
   "execution_count": 326,
   "metadata": {},
   "outputs": [
    {
     "data": {
      "text/html": [
       "<div>\n",
       "<style scoped>\n",
       "    .dataframe tbody tr th:only-of-type {\n",
       "        vertical-align: middle;\n",
       "    }\n",
       "\n",
       "    .dataframe tbody tr th {\n",
       "        vertical-align: top;\n",
       "    }\n",
       "\n",
       "    .dataframe thead th {\n",
       "        text-align: right;\n",
       "    }\n",
       "</style>\n",
       "<table border=\"1\" class=\"dataframe\">\n",
       "  <thead>\n",
       "    <tr style=\"text-align: right;\">\n",
       "      <th></th>\n",
       "      <th>date</th>\n",
       "      <th>solve_secs</th>\n",
       "      <th>day</th>\n",
       "      <th>author</th>\n",
       "      <th>clues</th>\n",
       "    </tr>\n",
       "  </thead>\n",
       "  <tbody>\n",
       "    <tr>\n",
       "      <th>0</th>\n",
       "      <td>2017-01-01</td>\n",
       "      <td>2033.0</td>\n",
       "      <td>Sunday</td>\n",
       "      <td>MATTHEW SEWELL</td>\n",
       "      <td>['Sponged', 'Asylum', 'Takes from page to scre...</td>\n",
       "    </tr>\n",
       "    <tr>\n",
       "      <th>1</th>\n",
       "      <td>2017-01-02</td>\n",
       "      <td>530.0</td>\n",
       "      <td>Monday</td>\n",
       "      <td>CHUCK DEODENE</td>\n",
       "      <td>[\"Leatherworker's tool\", 'Wrath', 'Sauce often...</td>\n",
       "    </tr>\n",
       "    <tr>\n",
       "      <th>2</th>\n",
       "      <td>2017-01-03</td>\n",
       "      <td>630.0</td>\n",
       "      <td>Tuesday</td>\n",
       "      <td>MICHAEL SHTEYMAN</td>\n",
       "      <td>['Misgiving', 'Small quarrel', 'Leader from th...</td>\n",
       "    </tr>\n",
       "    <tr>\n",
       "      <th>3</th>\n",
       "      <td>2017-01-04</td>\n",
       "      <td>1217.0</td>\n",
       "      <td>Wednesday</td>\n",
       "      <td>SAMUEL A. DONALDSON</td>\n",
       "      <td>['Bee ball?', 'Somewhat', \"Historian's focus\",...</td>\n",
       "    </tr>\n",
       "    <tr>\n",
       "      <th>4</th>\n",
       "      <td>2017-01-05</td>\n",
       "      <td>1091.0</td>\n",
       "      <td>Thursday</td>\n",
       "      <td>ED SESSA</td>\n",
       "      <td>['Half of a Wall Street firm since 1882', 'One...</td>\n",
       "    </tr>\n",
       "    <tr>\n",
       "      <th>...</th>\n",
       "      <td>...</td>\n",
       "      <td>...</td>\n",
       "      <td>...</td>\n",
       "      <td>...</td>\n",
       "      <td>...</td>\n",
       "    </tr>\n",
       "    <tr>\n",
       "      <th>1090</th>\n",
       "      <td>2019-12-27</td>\n",
       "      <td>1036.0</td>\n",
       "      <td>Friday</td>\n",
       "      <td>SAM TRABUCCO</td>\n",
       "      <td>['Cracker boxes?', 'Criticized continuously', ...</td>\n",
       "    </tr>\n",
       "    <tr>\n",
       "      <th>1091</th>\n",
       "      <td>2019-12-28</td>\n",
       "      <td>1178.0</td>\n",
       "      <td>Saturday</td>\n",
       "      <td>ROBYN WEINTRAUB</td>\n",
       "      <td>['Where hands go in the Time Warp dance', \"Bak...</td>\n",
       "    </tr>\n",
       "    <tr>\n",
       "      <th>1092</th>\n",
       "      <td>2019-12-29</td>\n",
       "      <td>1569.0</td>\n",
       "      <td>Sunday</td>\n",
       "      <td>ANDREW CHAIKIN</td>\n",
       "      <td>['Reveal, as a plot twist', \"Hit 1980s-'90s sh...</td>\n",
       "    </tr>\n",
       "    <tr>\n",
       "      <th>1093</th>\n",
       "      <td>2019-12-30</td>\n",
       "      <td>493.0</td>\n",
       "      <td>Monday</td>\n",
       "      <td>GARY LARSON</td>\n",
       "      <td>['___ Wednesday', 'Doing battle', 'Item in a h...</td>\n",
       "    </tr>\n",
       "    <tr>\n",
       "      <th>1094</th>\n",
       "      <td>2019-12-31</td>\n",
       "      <td>447.0</td>\n",
       "      <td>Tuesday</td>\n",
       "      <td>EVAN KALISH</td>\n",
       "      <td>['Diving gear', 'Home to seven \"-stan\" countri...</td>\n",
       "    </tr>\n",
       "  </tbody>\n",
       "</table>\n",
       "<p>1095 rows × 5 columns</p>\n",
       "</div>"
      ],
      "text/plain": [
       "            date  solve_secs        day               author  \\\n",
       "0     2017-01-01      2033.0     Sunday      MATTHEW SEWELL    \n",
       "1     2017-01-02       530.0     Monday        CHUCK DEODENE   \n",
       "2     2017-01-03       630.0    Tuesday     MICHAEL SHTEYMAN   \n",
       "3     2017-01-04      1217.0  Wednesday  SAMUEL A. DONALDSON   \n",
       "4     2017-01-05      1091.0   Thursday             ED SESSA   \n",
       "...          ...         ...        ...                  ...   \n",
       "1090  2019-12-27      1036.0     Friday         SAM TRABUCCO   \n",
       "1091  2019-12-28      1178.0   Saturday      ROBYN WEINTRAUB   \n",
       "1092  2019-12-29      1569.0     Sunday      ANDREW CHAIKIN    \n",
       "1093  2019-12-30       493.0     Monday          GARY LARSON   \n",
       "1094  2019-12-31       447.0    Tuesday          EVAN KALISH   \n",
       "\n",
       "                                                  clues  \n",
       "0     ['Sponged', 'Asylum', 'Takes from page to scre...  \n",
       "1     [\"Leatherworker's tool\", 'Wrath', 'Sauce often...  \n",
       "2     ['Misgiving', 'Small quarrel', 'Leader from th...  \n",
       "3     ['Bee ball?', 'Somewhat', \"Historian's focus\",...  \n",
       "4     ['Half of a Wall Street firm since 1882', 'One...  \n",
       "...                                                 ...  \n",
       "1090  ['Cracker boxes?', 'Criticized continuously', ...  \n",
       "1091  ['Where hands go in the Time Warp dance', \"Bak...  \n",
       "1092  ['Reveal, as a plot twist', \"Hit 1980s-'90s sh...  \n",
       "1093  ['___ Wednesday', 'Doing battle', 'Item in a h...  \n",
       "1094  ['Diving gear', 'Home to seven \"-stan\" countri...  \n",
       "\n",
       "[1095 rows x 5 columns]"
      ]
     },
     "execution_count": 326,
     "metadata": {},
     "output_type": "execute_result"
    }
   ],
   "source": [
    "df"
   ]
  },
  {
   "cell_type": "code",
   "execution_count": 59,
   "metadata": {
    "collapsed": true
   },
   "outputs": [],
   "source": [
    "df_Sun = df[df['day'] == 'Sunday']\n",
    "df_Mon = df[df['day'] == 'Monday']\n",
    "df_Tues = df[df['day'] == 'Tuesday']\n",
    "df_Wed = df[df['day'] == 'Wednesday']\n",
    "df_Thurs = df[df['day'] == 'Thursday']\n",
    "df_Fri = df[df['day'] == 'Friday']\n",
    "df_Sat = df[df['day'] == 'Saturday']"
   ]
  },
  {
   "cell_type": "code",
   "execution_count": 176,
   "metadata": {},
   "outputs": [
    {
     "data": {
      "text/html": [
       "<div>\n",
       "<style scoped>\n",
       "    .dataframe tbody tr th:only-of-type {\n",
       "        vertical-align: middle;\n",
       "    }\n",
       "\n",
       "    .dataframe tbody tr th {\n",
       "        vertical-align: top;\n",
       "    }\n",
       "\n",
       "    .dataframe thead th {\n",
       "        text-align: right;\n",
       "    }\n",
       "</style>\n",
       "<table border=\"1\" class=\"dataframe\">\n",
       "  <thead>\n",
       "    <tr style=\"text-align: right;\">\n",
       "      <th></th>\n",
       "      <th>date</th>\n",
       "      <th>solve_secs</th>\n",
       "      <th>day</th>\n",
       "      <th>author</th>\n",
       "      <th>clues</th>\n",
       "    </tr>\n",
       "  </thead>\n",
       "  <tbody>\n",
       "    <tr>\n",
       "      <th>0</th>\n",
       "      <td>2017-01-01</td>\n",
       "      <td>2033.0</td>\n",
       "      <td>Sunday</td>\n",
       "      <td>MATTHEW SEWELL</td>\n",
       "      <td>['Sponged', 'Asylum', 'Takes from page to scre...</td>\n",
       "    </tr>\n",
       "    <tr>\n",
       "      <th>7</th>\n",
       "      <td>2017-01-08</td>\n",
       "      <td>1904.0</td>\n",
       "      <td>Sunday</td>\n",
       "      <td>ERIK AGARD and PETER BRODA</td>\n",
       "      <td>['Loops in, in a way', 'Goddess with a throne ...</td>\n",
       "    </tr>\n",
       "    <tr>\n",
       "      <th>14</th>\n",
       "      <td>2017-01-15</td>\n",
       "      <td>1814.0</td>\n",
       "      <td>Sunday</td>\n",
       "      <td>JOEL FAGLIANO</td>\n",
       "      <td>['Kind of kick', 'Product of evaporation', 'Ap...</td>\n",
       "    </tr>\n",
       "    <tr>\n",
       "      <th>21</th>\n",
       "      <td>2017-01-22</td>\n",
       "      <td>2318.0</td>\n",
       "      <td>Sunday</td>\n",
       "      <td>DAN SCHOENHOLZ</td>\n",
       "      <td>['Inconceivably vast', 'Hard looks', 'Stream, ...</td>\n",
       "    </tr>\n",
       "    <tr>\n",
       "      <th>28</th>\n",
       "      <td>2017-01-29</td>\n",
       "      <td>1715.0</td>\n",
       "      <td>Sunday</td>\n",
       "      <td>JIM HYRES and DAVID STEINBERG</td>\n",
       "      <td>['One side of a 69-Across showdown', 'Strip of...</td>\n",
       "    </tr>\n",
       "    <tr>\n",
       "      <th>...</th>\n",
       "      <td>...</td>\n",
       "      <td>...</td>\n",
       "      <td>...</td>\n",
       "      <td>...</td>\n",
       "      <td>...</td>\n",
       "    </tr>\n",
       "    <tr>\n",
       "      <th>1064</th>\n",
       "      <td>2019-12-01</td>\n",
       "      <td>1900.0</td>\n",
       "      <td>Sunday</td>\n",
       "      <td>PATRICK MERRELL</td>\n",
       "      <td>['Bird growing up Down Under', 'Russian noveli...</td>\n",
       "    </tr>\n",
       "    <tr>\n",
       "      <th>1071</th>\n",
       "      <td>2019-12-08</td>\n",
       "      <td>1192.0</td>\n",
       "      <td>Sunday</td>\n",
       "      <td>EMILY CARROLL</td>\n",
       "      <td>['Unpleasantly surprise', 'Music-licensing org...</td>\n",
       "    </tr>\n",
       "    <tr>\n",
       "      <th>1078</th>\n",
       "      <td>2019-12-15</td>\n",
       "      <td>1024.0</td>\n",
       "      <td>Sunday</td>\n",
       "      <td>JEFF CHEN and CHRISTINA IVERSON</td>\n",
       "      <td>['Sandwich with an apostrophe in its name', 'L...</td>\n",
       "    </tr>\n",
       "    <tr>\n",
       "      <th>1085</th>\n",
       "      <td>2019-12-22</td>\n",
       "      <td>1213.0</td>\n",
       "      <td>Sunday</td>\n",
       "      <td>LAURA TAYLOR KINNEL</td>\n",
       "      <td>['TV screen inits.', 'Steinful', 'Cut (off)', ...</td>\n",
       "    </tr>\n",
       "    <tr>\n",
       "      <th>1092</th>\n",
       "      <td>2019-12-29</td>\n",
       "      <td>1569.0</td>\n",
       "      <td>Sunday</td>\n",
       "      <td>ANDREW CHAIKIN</td>\n",
       "      <td>['Reveal, as a plot twist', \"Hit 1980s-'90s sh...</td>\n",
       "    </tr>\n",
       "  </tbody>\n",
       "</table>\n",
       "<p>157 rows × 5 columns</p>\n",
       "</div>"
      ],
      "text/plain": [
       "            date  solve_secs     day                            author  \\\n",
       "0     2017-01-01      2033.0  Sunday                   MATTHEW SEWELL    \n",
       "7     2017-01-08      1904.0  Sunday       ERIK AGARD and PETER BRODA    \n",
       "14    2017-01-15      1814.0  Sunday                    JOEL FAGLIANO    \n",
       "21    2017-01-22      2318.0  Sunday                   DAN SCHOENHOLZ    \n",
       "28    2017-01-29      1715.0  Sunday    JIM HYRES and DAVID STEINBERG    \n",
       "...          ...         ...     ...                               ...   \n",
       "1064  2019-12-01      1900.0  Sunday                  PATRICK MERRELL    \n",
       "1071  2019-12-08      1192.0  Sunday                    EMILY CARROLL    \n",
       "1078  2019-12-15      1024.0  Sunday  JEFF CHEN and CHRISTINA IVERSON    \n",
       "1085  2019-12-22      1213.0  Sunday              LAURA TAYLOR KINNEL    \n",
       "1092  2019-12-29      1569.0  Sunday                   ANDREW CHAIKIN    \n",
       "\n",
       "                                                  clues  \n",
       "0     ['Sponged', 'Asylum', 'Takes from page to scre...  \n",
       "7     ['Loops in, in a way', 'Goddess with a throne ...  \n",
       "14    ['Kind of kick', 'Product of evaporation', 'Ap...  \n",
       "21    ['Inconceivably vast', 'Hard looks', 'Stream, ...  \n",
       "28    ['One side of a 69-Across showdown', 'Strip of...  \n",
       "...                                                 ...  \n",
       "1064  ['Bird growing up Down Under', 'Russian noveli...  \n",
       "1071  ['Unpleasantly surprise', 'Music-licensing org...  \n",
       "1078  ['Sandwich with an apostrophe in its name', 'L...  \n",
       "1085  ['TV screen inits.', 'Steinful', 'Cut (off)', ...  \n",
       "1092  ['Reveal, as a plot twist', \"Hit 1980s-'90s sh...  \n",
       "\n",
       "[157 rows x 5 columns]"
      ]
     },
     "execution_count": 176,
     "metadata": {},
     "output_type": "execute_result"
    }
   ],
   "source": [
    "df_Sun"
   ]
  },
  {
   "cell_type": "code",
   "execution_count": null,
   "metadata": {
    "collapsed": true
   },
   "outputs": [],
   "source": []
  },
  {
   "cell_type": "code",
   "execution_count": null,
   "metadata": {
    "collapsed": true
   },
   "outputs": [],
   "source": []
  },
  {
   "cell_type": "code",
   "execution_count": 110,
   "metadata": {
    "collapsed": true
   },
   "outputs": [],
   "source": [
    "sun_cycle = df_Sun.groupby('author', as_index = False).mean()\n",
    "mon_cycle = df_Mon.groupby('author', as_index = False).mean()\n",
    "tues_cycle = df_Tues.groupby('author', as_index = False).mean()\n",
    "wed_cycle = df_Wed.groupby('author', as_index = False).mean()\n",
    "thurs_cycle = df_Thurs.groupby('author', as_index = False).mean()\n",
    "fri_cycle = df_Fri.groupby('author', as_index = False).mean()\n",
    "sat_cycle = df_Sat.groupby('author', as_index = False).mean()"
   ]
  },
  {
   "cell_type": "code",
   "execution_count": 182,
   "metadata": {},
   "outputs": [
    {
     "data": {
      "text/html": [
       "<div>\n",
       "<style scoped>\n",
       "    .dataframe tbody tr th:only-of-type {\n",
       "        vertical-align: middle;\n",
       "    }\n",
       "\n",
       "    .dataframe tbody tr th {\n",
       "        vertical-align: top;\n",
       "    }\n",
       "\n",
       "    .dataframe thead th {\n",
       "        text-align: right;\n",
       "    }\n",
       "</style>\n",
       "<table border=\"1\" class=\"dataframe\">\n",
       "  <thead>\n",
       "    <tr style=\"text-align: right;\">\n",
       "      <th></th>\n",
       "      <th>author</th>\n",
       "      <th>solve_secs</th>\n",
       "    </tr>\n",
       "  </thead>\n",
       "  <tbody>\n",
       "    <tr>\n",
       "      <th>0</th>\n",
       "      <td>ALAN ARBESFELD</td>\n",
       "      <td>542.333333</td>\n",
       "    </tr>\n",
       "    <tr>\n",
       "      <th>1</th>\n",
       "      <td>ALAN DELORIEA</td>\n",
       "      <td>514.000000</td>\n",
       "    </tr>\n",
       "    <tr>\n",
       "      <th>2</th>\n",
       "      <td>ALEX EATON-SALNERS</td>\n",
       "      <td>856.500000</td>\n",
       "    </tr>\n",
       "    <tr>\n",
       "      <th>3</th>\n",
       "      <td>ALEX EYLAR</td>\n",
       "      <td>390.000000</td>\n",
       "    </tr>\n",
       "    <tr>\n",
       "      <th>4</th>\n",
       "      <td>ALI GASCOIGNE</td>\n",
       "      <td>683.000000</td>\n",
       "    </tr>\n",
       "    <tr>\n",
       "      <th>...</th>\n",
       "      <td>...</td>\n",
       "      <td>...</td>\n",
       "    </tr>\n",
       "    <tr>\n",
       "      <th>86</th>\n",
       "      <td>TRACY GRAY and JEFF CHEN</td>\n",
       "      <td>514.000000</td>\n",
       "    </tr>\n",
       "    <tr>\n",
       "      <th>87</th>\n",
       "      <td>TRENT H. EVANS</td>\n",
       "      <td>378.666667</td>\n",
       "    </tr>\n",
       "    <tr>\n",
       "      <th>88</th>\n",
       "      <td>TRENTON CHARLSON</td>\n",
       "      <td>947.000000</td>\n",
       "    </tr>\n",
       "    <tr>\n",
       "      <th>89</th>\n",
       "      <td>ZHOUQIN BURNIKEL</td>\n",
       "      <td>507.285714</td>\n",
       "    </tr>\n",
       "    <tr>\n",
       "      <th>90</th>\n",
       "      <td>ZHOUQIN BURNIKEL and AGNES DAVIDSON</td>\n",
       "      <td>573.500000</td>\n",
       "    </tr>\n",
       "  </tbody>\n",
       "</table>\n",
       "<p>91 rows × 2 columns</p>\n",
       "</div>"
      ],
      "text/plain": [
       "                                 author  solve_secs\n",
       "0                        ALAN ARBESFELD  542.333333\n",
       "1                         ALAN DELORIEA  514.000000\n",
       "2                    ALEX EATON-SALNERS  856.500000\n",
       "3                            ALEX EYLAR  390.000000\n",
       "4                         ALI GASCOIGNE  683.000000\n",
       "..                                  ...         ...\n",
       "86             TRACY GRAY and JEFF CHEN  514.000000\n",
       "87                       TRENT H. EVANS  378.666667\n",
       "88                     TRENTON CHARLSON  947.000000\n",
       "89                     ZHOUQIN BURNIKEL  507.285714\n",
       "90  ZHOUQIN BURNIKEL and AGNES DAVIDSON  573.500000\n",
       "\n",
       "[91 rows x 2 columns]"
      ]
     },
     "execution_count": 182,
     "metadata": {},
     "output_type": "execute_result"
    }
   ],
   "source": [
    "sun_cycle\n",
    "mon_cycle"
   ]
  },
  {
   "cell_type": "code",
   "execution_count": null,
   "metadata": {
    "collapsed": true
   },
   "outputs": [],
   "source": []
  },
  {
   "cell_type": "code",
   "execution_count": null,
   "metadata": {
    "collapsed": true
   },
   "outputs": [],
   "source": []
  },
  {
   "cell_type": "code",
   "execution_count": null,
   "metadata": {
    "collapsed": true
   },
   "outputs": [],
   "source": [
    "\n"
   ]
  },
  {
   "cell_type": "code",
   "execution_count": null,
   "metadata": {
    "collapsed": true
   },
   "outputs": [],
   "source": []
  },
  {
   "cell_type": "code",
   "execution_count": null,
   "metadata": {
    "collapsed": true
   },
   "outputs": [],
   "source": []
  },
  {
   "cell_type": "code",
   "execution_count": 179,
   "metadata": {
    "collapsed": true
   },
   "outputs": [],
   "source": [
    "sun_list = sun_cycle['author'].to_list()\n",
    "mon_list = mon_cycle['author'].to_list()\n",
    "tues_list = tues_cycle['author'].to_list()\n",
    "wed_list = wed_cycle['author'].to_list()\n",
    "thurs_list = thurs_cycle['author'].to_list()\n",
    "fri_list = fri_cycle['author'].to_list()\n",
    "sat_list = sat_cycle['author'].to_list()"
   ]
  },
  {
   "cell_type": "code",
   "execution_count": 195,
   "metadata": {
    "collapsed": true
   },
   "outputs": [],
   "source": [
    "sun_list = [x[:-1] for x in sun_list]"
   ]
  },
  {
   "cell_type": "code",
   "execution_count": 175,
   "metadata": {},
   "outputs": [
    {
     "data": {
      "text/plain": [
       "{'DAVID STEINBERG', 'ERIK AGARD', 'PETER A. COLLINS', 'ZHOUQIN BURNIKEL'}"
      ]
     },
     "execution_count": 175,
     "metadata": {},
     "output_type": "execute_result"
    }
   ],
   "source": [
    "set(sun_list) & set(mon_list) & set(tues_list) & set(wed_list) & set(thurs_list) & set(fri_list) & set(sat_list) & set(sun_list)"
   ]
  },
  {
   "cell_type": "code",
   "execution_count": null,
   "metadata": {
    "collapsed": true
   },
   "outputs": [],
   "source": []
  },
  {
   "cell_type": "code",
   "execution_count": null,
   "metadata": {
    "collapsed": true
   },
   "outputs": [],
   "source": []
  },
  {
   "cell_type": "code",
   "execution_count": null,
   "metadata": {
    "collapsed": true
   },
   "outputs": [],
   "source": [
    "df_Sun = df[df['day'] == 'Sunday']\n",
    "df_Mon = df[df['day'] == 'Monday']\n",
    "df_Tues = df[df['day'] == 'Tuesday']\n",
    "df_Wed = df[df['day'] == 'Wednesday']\n",
    "df_Thurs = df[df['day'] == 'Thursday']\n",
    "df_Fri = df[df['day'] == 'Friday']\n",
    "df_Sat = df[df['day'] == 'Saturday']"
   ]
  },
  {
   "cell_type": "code",
   "execution_count": 327,
   "metadata": {},
   "outputs": [
    {
     "data": {
      "text/html": [
       "<div>\n",
       "<style scoped>\n",
       "    .dataframe tbody tr th:only-of-type {\n",
       "        vertical-align: middle;\n",
       "    }\n",
       "\n",
       "    .dataframe tbody tr th {\n",
       "        vertical-align: top;\n",
       "    }\n",
       "\n",
       "    .dataframe thead th {\n",
       "        text-align: right;\n",
       "    }\n",
       "</style>\n",
       "<table border=\"1\" class=\"dataframe\">\n",
       "  <thead>\n",
       "    <tr style=\"text-align: right;\">\n",
       "      <th></th>\n",
       "      <th>date</th>\n",
       "      <th>solve_secs</th>\n",
       "      <th>day</th>\n",
       "      <th>author</th>\n",
       "      <th>clues</th>\n",
       "    </tr>\n",
       "  </thead>\n",
       "  <tbody>\n",
       "    <tr>\n",
       "      <th>0</th>\n",
       "      <td>2017-01-01</td>\n",
       "      <td>2033.0</td>\n",
       "      <td>Sunday</td>\n",
       "      <td>MATTHEW SEWELL</td>\n",
       "      <td>['Sponged', 'Asylum', 'Takes from page to scre...</td>\n",
       "    </tr>\n",
       "    <tr>\n",
       "      <th>1</th>\n",
       "      <td>2017-01-02</td>\n",
       "      <td>530.0</td>\n",
       "      <td>Monday</td>\n",
       "      <td>CHUCK DEODENE</td>\n",
       "      <td>[\"Leatherworker's tool\", 'Wrath', 'Sauce often...</td>\n",
       "    </tr>\n",
       "    <tr>\n",
       "      <th>2</th>\n",
       "      <td>2017-01-03</td>\n",
       "      <td>630.0</td>\n",
       "      <td>Tuesday</td>\n",
       "      <td>MICHAEL SHTEYMAN</td>\n",
       "      <td>['Misgiving', 'Small quarrel', 'Leader from th...</td>\n",
       "    </tr>\n",
       "    <tr>\n",
       "      <th>3</th>\n",
       "      <td>2017-01-04</td>\n",
       "      <td>1217.0</td>\n",
       "      <td>Wednesday</td>\n",
       "      <td>SAMUEL A. DONALDSON</td>\n",
       "      <td>['Bee ball?', 'Somewhat', \"Historian's focus\",...</td>\n",
       "    </tr>\n",
       "    <tr>\n",
       "      <th>4</th>\n",
       "      <td>2017-01-05</td>\n",
       "      <td>1091.0</td>\n",
       "      <td>Thursday</td>\n",
       "      <td>ED SESSA</td>\n",
       "      <td>['Half of a Wall Street firm since 1882', 'One...</td>\n",
       "    </tr>\n",
       "    <tr>\n",
       "      <th>...</th>\n",
       "      <td>...</td>\n",
       "      <td>...</td>\n",
       "      <td>...</td>\n",
       "      <td>...</td>\n",
       "      <td>...</td>\n",
       "    </tr>\n",
       "    <tr>\n",
       "      <th>360</th>\n",
       "      <td>2017-12-27</td>\n",
       "      <td>1243.0</td>\n",
       "      <td>Wednesday</td>\n",
       "      <td>DAVID KWONG</td>\n",
       "      <td>[\"Slugger's stat\", 'Shout from a coach driver'...</td>\n",
       "    </tr>\n",
       "    <tr>\n",
       "      <th>361</th>\n",
       "      <td>2017-12-28</td>\n",
       "      <td>1137.0</td>\n",
       "      <td>Thursday</td>\n",
       "      <td>GARY LARSON</td>\n",
       "      <td>['1970s New York City mayor', 'Meat that comes...</td>\n",
       "    </tr>\n",
       "    <tr>\n",
       "      <th>362</th>\n",
       "      <td>2017-12-29</td>\n",
       "      <td>1811.0</td>\n",
       "      <td>Friday</td>\n",
       "      <td>DAVID STEINBERG</td>\n",
       "      <td>['Checks for bugs', 'Dealt (with)', 'Percocet ...</td>\n",
       "    </tr>\n",
       "    <tr>\n",
       "      <th>363</th>\n",
       "      <td>2017-12-30</td>\n",
       "      <td>1019.0</td>\n",
       "      <td>Saturday</td>\n",
       "      <td>DAMON GULCZYNSKI</td>\n",
       "      <td>['Colorful pullovers', \"Party host's convenien...</td>\n",
       "    </tr>\n",
       "    <tr>\n",
       "      <th>364</th>\n",
       "      <td>2017-12-31</td>\n",
       "      <td>2188.0</td>\n",
       "      <td>Sunday</td>\n",
       "      <td>JOHN LAMPKIN</td>\n",
       "      <td>['Have', 'New Deal org.', 'Motley', '\"Dukes\"',...</td>\n",
       "    </tr>\n",
       "  </tbody>\n",
       "</table>\n",
       "<p>365 rows × 5 columns</p>\n",
       "</div>"
      ],
      "text/plain": [
       "           date  solve_secs        day               author  \\\n",
       "0    2017-01-01      2033.0     Sunday      MATTHEW SEWELL    \n",
       "1    2017-01-02       530.0     Monday        CHUCK DEODENE   \n",
       "2    2017-01-03       630.0    Tuesday     MICHAEL SHTEYMAN   \n",
       "3    2017-01-04      1217.0  Wednesday  SAMUEL A. DONALDSON   \n",
       "4    2017-01-05      1091.0   Thursday             ED SESSA   \n",
       "..          ...         ...        ...                  ...   \n",
       "360  2017-12-27      1243.0  Wednesday          DAVID KWONG   \n",
       "361  2017-12-28      1137.0   Thursday          GARY LARSON   \n",
       "362  2017-12-29      1811.0     Friday      DAVID STEINBERG   \n",
       "363  2017-12-30      1019.0   Saturday     DAMON GULCZYNSKI   \n",
       "364  2017-12-31      2188.0     Sunday        JOHN LAMPKIN    \n",
       "\n",
       "                                                 clues  \n",
       "0    ['Sponged', 'Asylum', 'Takes from page to scre...  \n",
       "1    [\"Leatherworker's tool\", 'Wrath', 'Sauce often...  \n",
       "2    ['Misgiving', 'Small quarrel', 'Leader from th...  \n",
       "3    ['Bee ball?', 'Somewhat', \"Historian's focus\",...  \n",
       "4    ['Half of a Wall Street firm since 1882', 'One...  \n",
       "..                                                 ...  \n",
       "360  [\"Slugger's stat\", 'Shout from a coach driver'...  \n",
       "361  ['1970s New York City mayor', 'Meat that comes...  \n",
       "362  ['Checks for bugs', 'Dealt (with)', 'Percocet ...  \n",
       "363  ['Colorful pullovers', \"Party host's convenien...  \n",
       "364  ['Have', 'New Deal org.', 'Motley', '\"Dukes\"',...  \n",
       "\n",
       "[365 rows x 5 columns]"
      ]
     },
     "execution_count": 327,
     "metadata": {},
     "output_type": "execute_result"
    }
   ],
   "source": [
    "df17 = df.iloc[:365,:]\n",
    "df18 = df.iloc[365:730,:]\n",
    "df19 = df.iloc[730:, :]\n",
    "\n",
    "df17"
   ]
  },
  {
   "cell_type": "code",
   "execution_count": 328,
   "metadata": {
    "collapsed": true
   },
   "outputs": [],
   "source": [
    "df17.to_csv('puzzle17.csv', index = False)\n",
    "df18.to_csv('puzzle18.csv', index = False)\n",
    "df19.to_csv('puzzle19.csv', index = False)\n",
    "\n",
    "    "
   ]
  },
  {
   "cell_type": "code",
   "execution_count": 245,
   "metadata": {
    "collapsed": true
   },
   "outputs": [],
   "source": [
    "solves_17 = df17.groupby('day').mean()\n",
    "solves_17 = solves_17.sort_values(by = 'solve_secs')\n",
    "\n",
    "solves_18 = df18.groupby('day').mean()\n",
    "solves_18 = solves_18.sort_values(by = 'solve_secs')\n",
    "\n",
    "solves_19 = df19.groupby('day').mean()\n",
    "solves_19 = solves_19.sort_values(by = 'solve_secs')\n"
   ]
  },
  {
   "cell_type": "code",
   "execution_count": 240,
   "metadata": {
    "collapsed": true
   },
   "outputs": [],
   "source": []
  },
  {
   "cell_type": "code",
   "execution_count": 247,
   "metadata": {},
   "outputs": [
    {
     "data": {
      "text/html": [
       "<div>\n",
       "<style scoped>\n",
       "    .dataframe tbody tr th:only-of-type {\n",
       "        vertical-align: middle;\n",
       "    }\n",
       "\n",
       "    .dataframe tbody tr th {\n",
       "        vertical-align: top;\n",
       "    }\n",
       "\n",
       "    .dataframe thead th {\n",
       "        text-align: right;\n",
       "    }\n",
       "</style>\n",
       "<table border=\"1\" class=\"dataframe\">\n",
       "  <thead>\n",
       "    <tr style=\"text-align: right;\">\n",
       "      <th></th>\n",
       "      <th>solve_secs</th>\n",
       "    </tr>\n",
       "    <tr>\n",
       "      <th>day</th>\n",
       "      <th></th>\n",
       "    </tr>\n",
       "  </thead>\n",
       "  <tbody>\n",
       "    <tr>\n",
       "      <th>Monday</th>\n",
       "      <td>804.442308</td>\n",
       "    </tr>\n",
       "    <tr>\n",
       "      <th>Tuesday</th>\n",
       "      <td>1211.442308</td>\n",
       "    </tr>\n",
       "    <tr>\n",
       "      <th>Wednesday</th>\n",
       "      <td>1342.807692</td>\n",
       "    </tr>\n",
       "    <tr>\n",
       "      <th>Thursday</th>\n",
       "      <td>1618.788462</td>\n",
       "    </tr>\n",
       "    <tr>\n",
       "      <th>Friday</th>\n",
       "      <td>1648.038462</td>\n",
       "    </tr>\n",
       "    <tr>\n",
       "      <th>Saturday</th>\n",
       "      <td>2077.365385</td>\n",
       "    </tr>\n",
       "    <tr>\n",
       "      <th>Sunday</th>\n",
       "      <td>3114.132075</td>\n",
       "    </tr>\n",
       "  </tbody>\n",
       "</table>\n",
       "</div>"
      ],
      "text/plain": [
       "            solve_secs\n",
       "day                   \n",
       "Monday      804.442308\n",
       "Tuesday    1211.442308\n",
       "Wednesday  1342.807692\n",
       "Thursday   1618.788462\n",
       "Friday     1648.038462\n",
       "Saturday   2077.365385\n",
       "Sunday     3114.132075"
      ]
     },
     "execution_count": 247,
     "metadata": {},
     "output_type": "execute_result"
    }
   ],
   "source": []
  },
  {
   "cell_type": "code",
   "execution_count": 253,
   "metadata": {
    "collapsed": true
   },
   "outputs": [],
   "source": [
    "comp_17_18 = pd.concat([solves_17, solves_18], axis=1)"
   ]
  },
  {
   "cell_type": "code",
   "execution_count": 254,
   "metadata": {
    "collapsed": true
   },
   "outputs": [],
   "source": [
    "comp_17_18.columns = ['2017', '2018']"
   ]
  },
  {
   "cell_type": "code",
   "execution_count": 255,
   "metadata": {},
   "outputs": [
    {
     "data": {
      "text/html": [
       "<div>\n",
       "<style scoped>\n",
       "    .dataframe tbody tr th:only-of-type {\n",
       "        vertical-align: middle;\n",
       "    }\n",
       "\n",
       "    .dataframe tbody tr th {\n",
       "        vertical-align: top;\n",
       "    }\n",
       "\n",
       "    .dataframe thead th {\n",
       "        text-align: right;\n",
       "    }\n",
       "</style>\n",
       "<table border=\"1\" class=\"dataframe\">\n",
       "  <thead>\n",
       "    <tr style=\"text-align: right;\">\n",
       "      <th></th>\n",
       "      <th>2017</th>\n",
       "      <th>2018</th>\n",
       "    </tr>\n",
       "  </thead>\n",
       "  <tbody>\n",
       "    <tr>\n",
       "      <th>Monday</th>\n",
       "      <td>804.442308</td>\n",
       "      <td>605.094340</td>\n",
       "    </tr>\n",
       "    <tr>\n",
       "      <th>Tuesday</th>\n",
       "      <td>1211.442308</td>\n",
       "      <td>868.211538</td>\n",
       "    </tr>\n",
       "    <tr>\n",
       "      <th>Wednesday</th>\n",
       "      <td>1342.807692</td>\n",
       "      <td>1006.250000</td>\n",
       "    </tr>\n",
       "    <tr>\n",
       "      <th>Thursday</th>\n",
       "      <td>1618.788462</td>\n",
       "      <td>1144.634615</td>\n",
       "    </tr>\n",
       "    <tr>\n",
       "      <th>Friday</th>\n",
       "      <td>1648.038462</td>\n",
       "      <td>1123.653846</td>\n",
       "    </tr>\n",
       "    <tr>\n",
       "      <th>Saturday</th>\n",
       "      <td>2077.365385</td>\n",
       "      <td>1274.346154</td>\n",
       "    </tr>\n",
       "    <tr>\n",
       "      <th>Sunday</th>\n",
       "      <td>3114.132075</td>\n",
       "      <td>2340.807692</td>\n",
       "    </tr>\n",
       "  </tbody>\n",
       "</table>\n",
       "</div>"
      ],
      "text/plain": [
       "                  2017         2018\n",
       "Monday      804.442308   605.094340\n",
       "Tuesday    1211.442308   868.211538\n",
       "Wednesday  1342.807692  1006.250000\n",
       "Thursday   1618.788462  1144.634615\n",
       "Friday     1648.038462  1123.653846\n",
       "Saturday   2077.365385  1274.346154\n",
       "Sunday     3114.132075  2340.807692"
      ]
     },
     "execution_count": 255,
     "metadata": {},
     "output_type": "execute_result"
    }
   ],
   "source": [
    "comp_17_18"
   ]
  },
  {
   "cell_type": "code",
   "execution_count": 273,
   "metadata": {},
   "outputs": [
    {
     "data": {
      "text/plain": [
       "Text(0, 0.5, 'Solve Time (seconds)')"
      ]
     },
     "execution_count": 273,
     "metadata": {},
     "output_type": "execute_result"
    },
    {
     "data": {
      "image/png": "[encoded data removed]",
      "text/plain": [
       "<Figure size 432x288 with 1 Axes>"
      ]
     },
     "metadata": {
      "needs_background": "light"
     },
     "output_type": "display_data"
    }
   ],
   "source": [
    "ax = comp_17_18.plot.bar()\n",
    "ax.set_xlabel(\"Day of the Week\")\n",
    "ax.set_ylabel(\"Solve Time (seconds)\")"
   ]
  },
  {
   "cell_type": "code",
   "execution_count": 329,
   "metadata": {},
   "outputs": [
    {
     "data": {
      "image/png": "[encoded data removed]",
      "text/plain": [
       "<Figure size 432x288 with 1 Axes>"
      ]
     },
     "metadata": {
      "needs_background": "light"
     },
     "output_type": "display_data"
    },
    {
     "data": {
      "text/plain": [
       "<Figure size 432x288 with 0 Axes>"
      ]
     },
     "metadata": {},
     "output_type": "display_data"
    }
   ],
   "source": [
    "\n",
    "labels = ['Sunday', 'Monday', 'Tuesday', 'Wednesday', 'Thursday', 'Friday', 'Saturday']\n",
    "means17 = comp_17_18['2017']\n",
    "means18 = comp_17_18['2018']\n",
    "\n",
    "x = np.arange(len(labels))  # the label locations\n",
    "width = 0.35  # the width of the bars\n",
    "\n",
    "fig, ax = plt.subplots()\n",
    "rects1 = ax.bar(x - width/2, means17, width, label='2017')\n",
    "rects2 = ax.bar(x + width/2, means18, width, label='2018')\n",
    "\n",
    "# Add some text for labels, title and custom x-axis tick labels, etc.\n",
    "ax.set_ylabel('Seconds')\n",
    "ax.set_title('Solve Times by Year')\n",
    "ax.set_xticks(x)\n",
    "ax.set_xticklabels(labels)\n",
    "ax.legend()\n",
    "\n",
    "def autolabel(rects):\n",
    "    \"\"\"Attach a text label above each bar in *rects*, displaying its height.\"\"\"\n",
    "    for rect in rects:\n",
    "        height = int(rect.get_height())\n",
    "        ax.annotate('{}'.format(height),\n",
    "                    xy=(rect.get_x() + rect.get_width() / 2, height),\n",
    "                    xytext=(2.5, 0),  # 3 points vertical offset\n",
    "                    textcoords=\"offset points\",\n",
    "                    ha='center', va='bottom')\n",
    "\n",
    "\n",
    "autolabel(rects1)\n",
    "autolabel(rects2)\n",
    "\n",
    "fig.tight_layout()\n",
    "\n",
    "plt.show()\n",
    "\n",
    "plt.savefig('solve_times_17_18_v1.png')"
   ]
  },
  {
   "cell_type": "code",
   "execution_count": 291,
   "metadata": {},
   "outputs": [
    {
     "data": {
      "image/png": "[encoded data removed]",
      "text/plain": [
       "<Figure size 432x288 with 1 Axes>"
      ]
     },
     "metadata": {
      "needs_background": "light"
     },
     "output_type": "display_data"
    }
   ],
   "source": [
    "labels = ['G1', 'G2', 'G3', 'G4', 'G5']\n",
    "men_means = [20, 34, 30, 35, 27]\n",
    "women_means = [25, 32, 34, 20, 25]\n",
    "\n",
    "x = np.arange(len(labels))  # the label locations\n",
    "width = 0.35  # the width of the bars\n",
    "\n",
    "fig, ax = plt.subplots()\n",
    "rects1 = ax.bar(x - width/2, men_means, width, label='Men')\n",
    "rects2 = ax.bar(x + width/2, women_means, width, label='Women')\n",
    "\n",
    "# Add some text for labels, title and custom x-axis tick labels, etc.\n",
    "ax.set_ylabel('Scores')\n",
    "ax.set_title('Scores by group and gender')\n",
    "ax.set_xticks(x)\n",
    "ax.set_xticklabels(labels)\n",
    "ax.legend()\n",
    "\n",
    "\n",
    "def autolabel(rects):\n",
    "    \"\"\"Attach a text label above each bar in *rects*, displaying its height.\"\"\"\n",
    "    for rect in rects:\n",
    "        height = rect.get_height()\n",
    "        ax.annotate('{}'.format(height),\n",
    "                    xy=(rect.get_x() + rect.get_width() / 2, height),\n",
    "                    xytext=(0, 3),  # 3 points vertical offset\n",
    "                    textcoords=\"offset points\",\n",
    "                    ha='center', va='bottom')\n",
    "\n",
    "\n",
    "autolabel(rects1)\n",
    "autolabel(rects2)\n",
    "\n",
    "fig.tight_layout()\n",
    "\n",
    "plt.show()"
   ]
  },
  {
   "cell_type": "code",
   "execution_count": 318,
   "metadata": {},
   "outputs": [
    {
     "data": {
      "image/png": "[encoded data removed]",
      "text/plain": [
       "<Figure size 432x288 with 1 Axes>"
      ]
     },
     "metadata": {
      "needs_background": "light"
     },
     "output_type": "display_data"
    }
   ],
   "source": [
    "(comp_17_18[['2017', '2018']].plot(kind = 'bar', title = 'Solve Times by Day/Year', legend = True))\n",
    "\n",
    "plt.savefig('solve_times_17_18_v2.png')"
   ]
  },
  {
   "cell_type": "code",
   "execution_count": null,
   "metadata": {
    "collapsed": true
   },
   "outputs": [],
   "source": []
  }
 ],
 "metadata": {
  "kernelspec": {
   "display_name": "Python [conda env:root] *",
   "language": "python",
   "name": "conda-root-py"
  },
  "language_info": {
   "codemirror_mode": {
    "name": "ipython",
    "version": 3
   },
   "file_extension": ".py",
   "mimetype": "text/x-python",
   "name": "python",
   "nbconvert_exporter": "python",
   "pygments_lexer": "ipython3",
   "version": "3.7.7"
  }
 },
 "nbformat": 4,
 "nbformat_minor": 4
}
