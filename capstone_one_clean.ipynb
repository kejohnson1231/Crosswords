{
 "cells": [
  {
   "cell_type": "markdown",
   "metadata": {},
   "source": [
    "**Imports**"
   ]
  },
  {
   "cell_type": "code",
   "execution_count": 85,
   "metadata": {},
   "outputs": [],
   "source": [
    "from selenium import webdriver\n",
    "from selenium.webdriver import Chrome\n",
    "from selenium.webdriver.common.by import By\n",
    "from selenium.webdriver.support.ui import WebDriverWait\n",
    "from selenium.webdriver.support import expected_conditions as EC\n",
    "from selenium.common.exceptions import NoAlertPresentException\n",
    "from selenium.common.exceptions import TimeoutException\n",
    "from selenium.webdriver.common.keys import Keys\n",
    "\n",
    "import pandas as pd\n",
    "\n",
    "from pymongo import MongoClient\n",
    "import pandas as pd\n",
    "\n",
    "# Requests sends and recieves HTTP requests.\n",
    "import requests\n",
    "\n",
    "# Beautiful Soup parses HTML documents in python.\n",
    "from bs4 import BeautifulSoup\n",
    "\n",
    "import time\n",
    "import pprint\n",
    "\n",
    "from datetime import timedelta, date\n",
    "import datetime\n",
    "\n",
    "import numpy as np\n",
    "import matplotlib.pyplot as plt"
   ]
  },
  {
   "cell_type": "markdown",
   "metadata": {},
   "source": [
    "#### Initiating Selenium, signing in, navigating to page"
   ]
  },
  {
   "cell_type": "code",
   "execution_count": null,
   "metadata": {},
   "outputs": [],
   "source": [
    "webdriver = \"/Users/kathrynjohnson/Downloads/chromedriver\"\n",
    "\n",
    "driver = Chrome(webdriver)\n",
    "\n",
    "login_url = \"https://myaccount.nytimes.com/auth/login\"\n",
    "\n",
    "driver.get(login_url)\n",
    "\n",
    "html_source = driver.page_source"
   ]
  },
  {
   "cell_type": "code",
   "execution_count": null,
   "metadata": {},
   "outputs": [],
   "source": [
    "request_url = 'https://www.nytimes.com/crosswords'\n",
    "\n",
    "driver.get(request_url)\n",
    "\n",
    "html_source = driver.page_source"
   ]
  },
  {
   "cell_type": "markdown",
   "metadata": {},
   "source": [
    "#### Template Code"
   ]
  },
  {
   "cell_type": "code",
   "execution_count": null,
   "metadata": {},
   "outputs": [],
   "source": [
    "def daterange(start_date, end_date):\n",
    "    for n in range(int ((end_date - start_date).days)):\n",
    "        yield start_date + timedelta(n)\n",
    "\n",
    "puzzle_dict = {}\n",
    "start_date = date(2019, 1, 1)\n",
    "end_date = date(2019, 1, 2)\n",
    "\n",
    "for single_date in daterange(start_date, end_date):\n",
    "    #tell selenium to access the site and wait for it to load\n",
    "    url = \"https://www.nytimes.com/crosswords/game/daily/\" + single_date.strftime(\"%Y/%m/%d\") + \"/\"\n",
    "    driver.get(url)\n",
    "    time.sleep(10)\n",
    "    \n",
    "    #get all the clues and return them in a list\n",
    "    clue_element = driver.find_elements_by_class_name(\"Clue-text--3lZl7\")\n",
    "    clue = [x.text for x in clue_element]\n",
    "    \n",
    "    #get the day of the week from the puzzle details\n",
    "    day_element = driver.find_elements_by_class_name('PuzzleDetails-date--1HNzj')\n",
    "    for x in day_element:\n",
    "        date_info = x.text\n",
    "        date_split = date_info.split(' ')\n",
    "        day_of_week = date_split[0]\n",
    "    author_element = driver.find_elements_by_class_name(\"PuzzleDetails-byline--16J5w\")\n",
    "    \n",
    "    #get the author of the puzzle, parsing will be based on whether puzzle has a special title\n",
    "    for x in author_element:\n",
    "        if x.text[0] is 'T':\n",
    "            byline = x.text[16:]\n",
    "            byline_split = byline.split('Edited')\n",
    "            author = byline_split[0]\n",
    "        elif x.text[0] is '\"':\n",
    "            byline = x.text.replace('\"', ' ')\n",
    "            byline2 = byline.replace('Edited ', ' ')\n",
    "            byline3 = byline2.replace('by', 'By')\n",
    "            byline_split = byline3.split('By ')\n",
    "            author = byline_split[1]\n",
    "    \n",
    "    #get the solve time and format it\n",
    "    timer_element = driver.find_elements_by_class_name('timer-count')\n",
    "    for x in timer_element:\n",
    "        if len(x.text) == 4:\n",
    "            timer = '00:0' + x.text\n",
    "        elif len(x.text) == 5:\n",
    "            timer = '00:' + x.text\n",
    "        elif len(x.text) == 7:\n",
    "            timer = '0' + x.text\n",
    "        else:\n",
    "            timer = x.text\n",
    "    \n",
    "    #convert timer to seconds\n",
    "    date_time = datetime.datetime.strptime(timer, \"%H:%M:%S\")\n",
    "    a_timedelta = date_time - datetime.datetime(1900, 1, 1)\n",
    "    seconds = a_timedelta.total_seconds()\n",
    "    \n",
    "    #return all of the data in dictionary with the puzzle date as the key\n",
    "    puzzle_dict[single_date.strftime(\"%Y-%m-%d\")] = (seconds, day_of_week, author, clue)\n",
    "    \n",
    "    #tell selenium to wait a few more seconds before the next pull\n",
    "    time.sleep(5)"
   ]
  },
  {
   "cell_type": "code",
   "execution_count": null,
   "metadata": {},
   "outputs": [],
   "source": [
    "df = pd.DataFrame.from_dict(puzzle_dict, orient='index', columns=['solve time(seconds)', 'day', 'author', 'clues'])"
   ]
  },
  {
   "cell_type": "markdown",
   "metadata": {},
   "source": [
    "#### Reading in pre-created df"
   ]
  },
  {
   "cell_type": "code",
   "execution_count": 28,
   "metadata": {},
   "outputs": [],
   "source": [
    "df = pd.read_csv('puzzles_5yrs.csv')"
   ]
  },
  {
   "cell_type": "code",
   "execution_count": 29,
   "metadata": {},
   "outputs": [
    {
     "data": {
      "text/html": [
       "<div>\n",
       "<style scoped>\n",
       "    .dataframe tbody tr th:only-of-type {\n",
       "        vertical-align: middle;\n",
       "    }\n",
       "\n",
       "    .dataframe tbody tr th {\n",
       "        vertical-align: top;\n",
       "    }\n",
       "\n",
       "    .dataframe thead th {\n",
       "        text-align: right;\n",
       "    }\n",
       "</style>\n",
       "<table border=\"1\" class=\"dataframe\">\n",
       "  <thead>\n",
       "    <tr style=\"text-align: right;\">\n",
       "      <th></th>\n",
       "      <th>date</th>\n",
       "      <th>solve_secs</th>\n",
       "      <th>day</th>\n",
       "      <th>author</th>\n",
       "      <th>clues</th>\n",
       "    </tr>\n",
       "  </thead>\n",
       "  <tbody>\n",
       "    <tr>\n",
       "      <th>0</th>\n",
       "      <td>2015-01-01</td>\n",
       "      <td>584.0</td>\n",
       "      <td>Thursday</td>\n",
       "      <td>JEFF CHEN and JILL DENNY</td>\n",
       "      <td>['Person close to 100?', 'Kind of game or line...</td>\n",
       "    </tr>\n",
       "    <tr>\n",
       "      <th>1</th>\n",
       "      <td>2015-01-02</td>\n",
       "      <td>748.0</td>\n",
       "      <td>Friday</td>\n",
       "      <td>DAVID STEINBERG</td>\n",
       "      <td>['One at the head of the class, informally', '...</td>\n",
       "    </tr>\n",
       "    <tr>\n",
       "      <th>2</th>\n",
       "      <td>2015-01-03</td>\n",
       "      <td>736.0</td>\n",
       "      <td>Saturday</td>\n",
       "      <td>SAM EZERSKY</td>\n",
       "      <td>['Bollix', 'Rough selection?', '1975 Golden Gl...</td>\n",
       "    </tr>\n",
       "    <tr>\n",
       "      <th>3</th>\n",
       "      <td>2015-01-04</td>\n",
       "      <td>1151.0</td>\n",
       "      <td>Sunday</td>\n",
       "      <td>FINN VIGELAND</td>\n",
       "      <td>['The \"1\" of 1/4', 'Org. portrayed in \"America...</td>\n",
       "    </tr>\n",
       "    <tr>\n",
       "      <th>4</th>\n",
       "      <td>2015-01-05</td>\n",
       "      <td>423.0</td>\n",
       "      <td>Monday</td>\n",
       "      <td>JOHN GUZZETTA</td>\n",
       "      <td>['More achy', 'Item in a pod', 'Helpful websit...</td>\n",
       "    </tr>\n",
       "    <tr>\n",
       "      <th>...</th>\n",
       "      <td>...</td>\n",
       "      <td>...</td>\n",
       "      <td>...</td>\n",
       "      <td>...</td>\n",
       "      <td>...</td>\n",
       "    </tr>\n",
       "    <tr>\n",
       "      <th>1821</th>\n",
       "      <td>2019-12-27</td>\n",
       "      <td>1036.0</td>\n",
       "      <td>Friday</td>\n",
       "      <td>SAM TRABUCCO</td>\n",
       "      <td>['Cracker boxes?', 'Criticized continuously', ...</td>\n",
       "    </tr>\n",
       "    <tr>\n",
       "      <th>1822</th>\n",
       "      <td>2019-12-28</td>\n",
       "      <td>1178.0</td>\n",
       "      <td>Saturday</td>\n",
       "      <td>ROBYN WEINTRAUB</td>\n",
       "      <td>['Where hands go in the Time Warp dance', \"Bak...</td>\n",
       "    </tr>\n",
       "    <tr>\n",
       "      <th>1823</th>\n",
       "      <td>2019-12-29</td>\n",
       "      <td>1569.0</td>\n",
       "      <td>Sunday</td>\n",
       "      <td>ANDREW CHAIKIN</td>\n",
       "      <td>['Reveal, as a plot twist', \"Hit 1980s-'90s sh...</td>\n",
       "    </tr>\n",
       "    <tr>\n",
       "      <th>1824</th>\n",
       "      <td>2019-12-30</td>\n",
       "      <td>493.0</td>\n",
       "      <td>Monday</td>\n",
       "      <td>GARY LARSON</td>\n",
       "      <td>['___ Wednesday', 'Doing battle', 'Item in a h...</td>\n",
       "    </tr>\n",
       "    <tr>\n",
       "      <th>1825</th>\n",
       "      <td>2019-12-31</td>\n",
       "      <td>447.0</td>\n",
       "      <td>Tuesday</td>\n",
       "      <td>EVAN KALISH</td>\n",
       "      <td>['Diving gear', 'Home to seven \"-stan\" countri...</td>\n",
       "    </tr>\n",
       "  </tbody>\n",
       "</table>\n",
       "<p>1826 rows × 5 columns</p>\n",
       "</div>"
      ],
      "text/plain": [
       "            date  solve_secs       day                    author  \\\n",
       "0     2015-01-01       584.0  Thursday  JEFF CHEN and JILL DENNY   \n",
       "1     2015-01-02       748.0    Friday           DAVID STEINBERG   \n",
       "2     2015-01-03       736.0  Saturday               SAM EZERSKY   \n",
       "3     2015-01-04      1151.0    Sunday            FINN VIGELAND    \n",
       "4     2015-01-05       423.0    Monday             JOHN GUZZETTA   \n",
       "...          ...         ...       ...                       ...   \n",
       "1821  2019-12-27      1036.0    Friday              SAM TRABUCCO   \n",
       "1822  2019-12-28      1178.0  Saturday           ROBYN WEINTRAUB   \n",
       "1823  2019-12-29      1569.0    Sunday           ANDREW CHAIKIN    \n",
       "1824  2019-12-30       493.0    Monday               GARY LARSON   \n",
       "1825  2019-12-31       447.0   Tuesday               EVAN KALISH   \n",
       "\n",
       "                                                  clues  \n",
       "0     ['Person close to 100?', 'Kind of game or line...  \n",
       "1     ['One at the head of the class, informally', '...  \n",
       "2     ['Bollix', 'Rough selection?', '1975 Golden Gl...  \n",
       "3     ['The \"1\" of 1/4', 'Org. portrayed in \"America...  \n",
       "4     ['More achy', 'Item in a pod', 'Helpful websit...  \n",
       "...                                                 ...  \n",
       "1821  ['Cracker boxes?', 'Criticized continuously', ...  \n",
       "1822  ['Where hands go in the Time Warp dance', \"Bak...  \n",
       "1823  ['Reveal, as a plot twist', \"Hit 1980s-'90s sh...  \n",
       "1824  ['___ Wednesday', 'Doing battle', 'Item in a h...  \n",
       "1825  ['Diving gear', 'Home to seven \"-stan\" countri...  \n",
       "\n",
       "[1826 rows x 5 columns]"
      ]
     },
     "execution_count": 29,
     "metadata": {},
     "output_type": "execute_result"
    }
   ],
   "source": [
    "df"
   ]
  },
  {
   "cell_type": "markdown",
   "metadata": {},
   "source": [
    "#### Separating Days of the Week"
   ]
  },
  {
   "cell_type": "code",
   "execution_count": 30,
   "metadata": {},
   "outputs": [],
   "source": [
    "df_Sun = df[df['day'] == 'Sunday']\n",
    "df_Mon = df[df['day'] == 'Monday']\n",
    "df_Tues = df[df['day'] == 'Tuesday']\n",
    "df_Wed = df[df['day'] == 'Wednesday']\n",
    "df_Thurs = df[df['day'] == 'Thursday']\n",
    "df_Fri = df[df['day'] == 'Friday']\n",
    "df_Sat = df[df['day'] == 'Saturday']"
   ]
  },
  {
   "cell_type": "markdown",
   "metadata": {},
   "source": [
    "#### Grouping by Author for each day and returning lists for comparison"
   ]
  },
  {
   "cell_type": "code",
   "execution_count": 31,
   "metadata": {},
   "outputs": [],
   "source": [
    "sun_cycle = df_Sun.groupby('author', as_index = False).mean()\n",
    "mon_cycle = df_Mon.groupby('author', as_index = False).mean()\n",
    "tues_cycle = df_Tues.groupby('author', as_index = False).mean()\n",
    "wed_cycle = df_Wed.groupby('author', as_index = False).mean()\n",
    "thurs_cycle = df_Thurs.groupby('author', as_index = False).mean()\n",
    "fri_cycle = df_Fri.groupby('author', as_index = False).mean()\n",
    "sat_cycle = df_Sat.groupby('author', as_index = False).mean()"
   ]
  },
  {
   "cell_type": "code",
   "execution_count": 32,
   "metadata": {},
   "outputs": [],
   "source": [
    "sun_list = sun_cycle['author'].to_list()\n",
    "mon_list = mon_cycle['author'].to_list()\n",
    "tues_list = tues_cycle['author'].to_list()\n",
    "wed_list = wed_cycle['author'].to_list()\n",
    "thurs_list = thurs_cycle['author'].to_list()\n",
    "fri_list = fri_cycle['author'].to_list()\n",
    "sat_list = sat_cycle['author'].to_list()"
   ]
  },
  {
   "cell_type": "code",
   "execution_count": 33,
   "metadata": {},
   "outputs": [],
   "source": [
    "sun_list = [x[:-1] for x in sun_list]"
   ]
  },
  {
   "cell_type": "code",
   "execution_count": 34,
   "metadata": {},
   "outputs": [
    {
     "data": {
      "text/plain": [
       "{'DAVID J. KAHN',\n",
       " 'DAVID STEINBERG',\n",
       " 'DAVID WOOLF',\n",
       " 'ERIK AGARD',\n",
       " 'PETER A. COLLINS',\n",
       " 'ZHOUQIN BURNIKEL'}"
      ]
     },
     "execution_count": 34,
     "metadata": {},
     "output_type": "execute_result"
    }
   ],
   "source": [
    "set(sun_list) & set(mon_list) & set(tues_list) & set(wed_list) & set(thurs_list) & set(fri_list) & set(sat_list) & set(sun_list)"
   ]
  },
  {
   "cell_type": "markdown",
   "metadata": {},
   "source": [
    " "
   ]
  },
  {
   "cell_type": "code",
   "execution_count": 35,
   "metadata": {},
   "outputs": [],
   "source": [
    "def author_df(df, author):\n",
    "    df1 = df[df['author']==author]\n",
    "    df2 = df[df['author']==author+' ']\n",
    "    df3 = pd.concat([df1, df2])\n",
    "    df4 = df3.groupby('day').mean()\n",
    "    df4 = df4.sort_values(by = 'solve_secs')\n",
    "    return df4\n",
    "    "
   ]
  },
  {
   "cell_type": "code",
   "execution_count": 38,
   "metadata": {},
   "outputs": [],
   "source": [
    "kahn = author_df(df, 'DAVID J. KAHN')\n",
    "steinberg = author_df(df, 'DAVID STEINBERG')\n",
    "woolf = author_df(df, 'DAVID WOOLF')\n",
    "agard = author_df(df, 'ERIK AGARD')\n",
    "collins = author_df(df, 'PETER A. COLLINS')\n",
    "burnikel = author_df(df, 'ZHOUQIN BURNIKEL')\n"
   ]
  },
  {
   "cell_type": "code",
   "execution_count": 39,
   "metadata": {},
   "outputs": [],
   "source": [
    "authors = pd.concat([kahn, steinberg, woolf, agard, collins, burnikel], axis=1)"
   ]
  },
  {
   "cell_type": "code",
   "execution_count": 40,
   "metadata": {},
   "outputs": [],
   "source": [
    "authors.columns = ['Kahn', 'Steinberg', 'Woolf', 'Agard', 'Collins', 'Burnikel']"
   ]
  },
  {
   "cell_type": "code",
   "execution_count": 41,
   "metadata": {},
   "outputs": [],
   "source": [
    "authors = authors.reindex(['Monday', 'Tuesday', 'Wednesday', 'Thursday', 'Friday', 'Saturday', 'Sunday'])"
   ]
  },
  {
   "cell_type": "code",
   "execution_count": 42,
   "metadata": {},
   "outputs": [
    {
     "data": {
      "text/html": [
       "<div>\n",
       "<style scoped>\n",
       "    .dataframe tbody tr th:only-of-type {\n",
       "        vertical-align: middle;\n",
       "    }\n",
       "\n",
       "    .dataframe tbody tr th {\n",
       "        vertical-align: top;\n",
       "    }\n",
       "\n",
       "    .dataframe thead th {\n",
       "        text-align: right;\n",
       "    }\n",
       "</style>\n",
       "<table border=\"1\" class=\"dataframe\">\n",
       "  <thead>\n",
       "    <tr style=\"text-align: right;\">\n",
       "      <th></th>\n",
       "      <th>Kahn</th>\n",
       "      <th>Steinberg</th>\n",
       "      <th>Woolf</th>\n",
       "      <th>Agard</th>\n",
       "      <th>Collins</th>\n",
       "      <th>Burnikel</th>\n",
       "    </tr>\n",
       "  </thead>\n",
       "  <tbody>\n",
       "    <tr>\n",
       "      <th>Monday</th>\n",
       "      <td>419.500000</td>\n",
       "      <td>524.000000</td>\n",
       "      <td>489.333333</td>\n",
       "      <td>393.666667</td>\n",
       "      <td>689.333333</td>\n",
       "      <td>472.153846</td>\n",
       "    </tr>\n",
       "    <tr>\n",
       "      <th>Tuesday</th>\n",
       "      <td>967.200000</td>\n",
       "      <td>973.500000</td>\n",
       "      <td>991.000000</td>\n",
       "      <td>532.500000</td>\n",
       "      <td>836.666667</td>\n",
       "      <td>918.888889</td>\n",
       "    </tr>\n",
       "    <tr>\n",
       "      <th>Wednesday</th>\n",
       "      <td>1063.285714</td>\n",
       "      <td>778.285714</td>\n",
       "      <td>1127.000000</td>\n",
       "      <td>824.500000</td>\n",
       "      <td>787.250000</td>\n",
       "      <td>579.250000</td>\n",
       "    </tr>\n",
       "    <tr>\n",
       "      <th>Thursday</th>\n",
       "      <td>950.666667</td>\n",
       "      <td>1602.000000</td>\n",
       "      <td>705.000000</td>\n",
       "      <td>1124.000000</td>\n",
       "      <td>1228.500000</td>\n",
       "      <td>874.500000</td>\n",
       "    </tr>\n",
       "    <tr>\n",
       "      <th>Friday</th>\n",
       "      <td>1282.000000</td>\n",
       "      <td>1209.772727</td>\n",
       "      <td>721.000000</td>\n",
       "      <td>997.500000</td>\n",
       "      <td>919.333333</td>\n",
       "      <td>1309.125000</td>\n",
       "    </tr>\n",
       "    <tr>\n",
       "      <th>Saturday</th>\n",
       "      <td>795.000000</td>\n",
       "      <td>963.900000</td>\n",
       "      <td>790.000000</td>\n",
       "      <td>1624.500000</td>\n",
       "      <td>667.000000</td>\n",
       "      <td>1311.000000</td>\n",
       "    </tr>\n",
       "    <tr>\n",
       "      <th>Sunday</th>\n",
       "      <td>1837.250000</td>\n",
       "      <td>1972.600000</td>\n",
       "      <td>1372.500000</td>\n",
       "      <td>1696.250000</td>\n",
       "      <td>1041.500000</td>\n",
       "      <td>1446.000000</td>\n",
       "    </tr>\n",
       "  </tbody>\n",
       "</table>\n",
       "</div>"
      ],
      "text/plain": [
       "                  Kahn    Steinberg        Woolf        Agard      Collins  \\\n",
       "Monday      419.500000   524.000000   489.333333   393.666667   689.333333   \n",
       "Tuesday     967.200000   973.500000   991.000000   532.500000   836.666667   \n",
       "Wednesday  1063.285714   778.285714  1127.000000   824.500000   787.250000   \n",
       "Thursday    950.666667  1602.000000   705.000000  1124.000000  1228.500000   \n",
       "Friday     1282.000000  1209.772727   721.000000   997.500000   919.333333   \n",
       "Saturday    795.000000   963.900000   790.000000  1624.500000   667.000000   \n",
       "Sunday     1837.250000  1972.600000  1372.500000  1696.250000  1041.500000   \n",
       "\n",
       "              Burnikel  \n",
       "Monday      472.153846  \n",
       "Tuesday     918.888889  \n",
       "Wednesday   579.250000  \n",
       "Thursday    874.500000  \n",
       "Friday     1309.125000  \n",
       "Saturday   1311.000000  \n",
       "Sunday     1446.000000  "
      ]
     },
     "execution_count": 42,
     "metadata": {},
     "output_type": "execute_result"
    }
   ],
   "source": [
    "authors"
   ]
  },
  {
   "cell_type": "code",
   "execution_count": 43,
   "metadata": {},
   "outputs": [
    {
     "data": {
      "text/plain": [
       "<matplotlib.axes._subplots.AxesSubplot at 0x11b92e690>"
      ]
     },
     "execution_count": 43,
     "metadata": {},
     "output_type": "execute_result"
    },
    {
     "data": {
      "image/png": "[encoded data removed]",
      "text/plain": [
       "<Figure size 432x288 with 1 Axes>"
      ]
     },
     "metadata": {
      "needs_background": "light"
     },
     "output_type": "display_data"
    }
   ],
   "source": [
    "authors.plot.line()"
   ]
  },
  {
   "cell_type": "code",
   "execution_count": 44,
   "metadata": {},
   "outputs": [
    {
     "data": {
      "text/plain": [
       "<matplotlib.axes._subplots.AxesSubplot at 0x11acb0750>"
      ]
     },
     "execution_count": 44,
     "metadata": {},
     "output_type": "execute_result"
    },
    {
     "data": {
      "image/png": "[encoded data removed]",
      "text/plain": [
       "<Figure size 432x288 with 1 Axes>"
      ]
     },
     "metadata": {
      "needs_background": "light"
     },
     "output_type": "display_data"
    }
   ],
   "source": [
    "authors.plot.bar()"
   ]
  },
  {
   "cell_type": "code",
   "execution_count": 61,
   "metadata": {},
   "outputs": [],
   "source": [
    "grouped = df.groupby('day').mean()\n",
    "sorted_days = grouped.sort_values('solve_secs')\n",
    "sorted_days = sorted_days.rename(columns ={'solve_secs' : 'Solve Time in Seconds'})"
   ]
  },
  {
   "cell_type": "code",
   "execution_count": 82,
   "metadata": {},
   "outputs": [
    {
     "data": {
      "text/plain": [
       "Text(0, 0.5, 'Solve Time (seconds)')"
      ]
     },
     "execution_count": 82,
     "metadata": {},
     "output_type": "execute_result"
    },
    {
     "data": {
      "image/png": "[encoded data removed]",
      "text/plain": [
       "<Figure size 432x288 with 1 Axes>"
      ]
     },
     "metadata": {
      "needs_background": "light"
     },
     "output_type": "display_data"
    }
   ],
   "source": [
    "ax = sorted_days.plot.bar(title = \"Solve Times by Day (2015-2019)\", legend = False)\n",
    "ax.set_xlabel(\"Day of the Week\")\n",
    "ax.set_ylabel(\"Solve Time (seconds)\")"
   ]
  },
  {
   "cell_type": "code",
   "execution_count": 75,
   "metadata": {},
   "outputs": [],
   "source": [
    "df17 = pd.read_csv('puzzle17.csv')\n",
    "df18 = pd.read_csv('puzzle18.csv')"
   ]
  },
  {
   "cell_type": "code",
   "execution_count": 76,
   "metadata": {},
   "outputs": [],
   "source": [
    "solves_17 = df17.groupby('day').mean()\n",
    "solves_17 = solves_17.sort_values(by = 'solve_secs')\n",
    "\n",
    "solves_18 = df18.groupby('day').mean()\n",
    "solves_18 = solves_18.sort_values(by = 'solve_secs')\n",
    "\n"
   ]
  },
  {
   "cell_type": "code",
   "execution_count": 77,
   "metadata": {},
   "outputs": [
    {
     "data": {
      "text/html": [
       "<div>\n",
       "<style scoped>\n",
       "    .dataframe tbody tr th:only-of-type {\n",
       "        vertical-align: middle;\n",
       "    }\n",
       "\n",
       "    .dataframe tbody tr th {\n",
       "        vertical-align: top;\n",
       "    }\n",
       "\n",
       "    .dataframe thead th {\n",
       "        text-align: right;\n",
       "    }\n",
       "</style>\n",
       "<table border=\"1\" class=\"dataframe\">\n",
       "  <thead>\n",
       "    <tr style=\"text-align: right;\">\n",
       "      <th></th>\n",
       "      <th>2017</th>\n",
       "      <th>2018</th>\n",
       "    </tr>\n",
       "  </thead>\n",
       "  <tbody>\n",
       "    <tr>\n",
       "      <th>Monday</th>\n",
       "      <td>804.442308</td>\n",
       "      <td>605.094340</td>\n",
       "    </tr>\n",
       "    <tr>\n",
       "      <th>Tuesday</th>\n",
       "      <td>1211.442308</td>\n",
       "      <td>868.211538</td>\n",
       "    </tr>\n",
       "    <tr>\n",
       "      <th>Wednesday</th>\n",
       "      <td>1342.807692</td>\n",
       "      <td>1006.250000</td>\n",
       "    </tr>\n",
       "    <tr>\n",
       "      <th>Thursday</th>\n",
       "      <td>1618.788462</td>\n",
       "      <td>1144.634615</td>\n",
       "    </tr>\n",
       "    <tr>\n",
       "      <th>Friday</th>\n",
       "      <td>1648.038462</td>\n",
       "      <td>1123.653846</td>\n",
       "    </tr>\n",
       "    <tr>\n",
       "      <th>Saturday</th>\n",
       "      <td>2077.365385</td>\n",
       "      <td>1274.346154</td>\n",
       "    </tr>\n",
       "    <tr>\n",
       "      <th>Sunday</th>\n",
       "      <td>3114.132075</td>\n",
       "      <td>2340.807692</td>\n",
       "    </tr>\n",
       "  </tbody>\n",
       "</table>\n",
       "</div>"
      ],
      "text/plain": [
       "                  2017         2018\n",
       "Monday      804.442308   605.094340\n",
       "Tuesday    1211.442308   868.211538\n",
       "Wednesday  1342.807692  1006.250000\n",
       "Thursday   1618.788462  1144.634615\n",
       "Friday     1648.038462  1123.653846\n",
       "Saturday   2077.365385  1274.346154\n",
       "Sunday     3114.132075  2340.807692"
      ]
     },
     "execution_count": 77,
     "metadata": {},
     "output_type": "execute_result"
    }
   ],
   "source": [
    "comp_17_18 = pd.concat([solves_17, solves_18], axis=1)\n",
    "comp_17_18.columns = ['2017', '2018']\n",
    "comp_17_18"
   ]
  },
  {
   "cell_type": "code",
   "execution_count": 78,
   "metadata": {},
   "outputs": [
    {
     "data": {
      "text/plain": [
       "Text(0, 0.5, 'Solve Time (seconds)')"
      ]
     },
     "execution_count": 78,
     "metadata": {},
     "output_type": "execute_result"
    },
    {
     "data": {
      "image/png": "[encoded data removed]",
      "text/plain": [
       "<Figure size 432x288 with 1 Axes>"
      ]
     },
     "metadata": {
      "needs_background": "light"
     },
     "output_type": "display_data"
    }
   ],
   "source": [
    "ax = comp_17_18.plot.bar()\n",
    "ax.set_xlabel(\"Day of the Week\")\n",
    "ax.set_ylabel(\"Solve Time (seconds)\")"
   ]
  },
  {
   "cell_type": "code",
   "execution_count": 86,
   "metadata": {},
   "outputs": [
    {
     "data": {
      "image/png": "[encoded data removed]",
      "text/plain": [
       "<Figure size 432x288 with 1 Axes>"
      ]
     },
     "metadata": {
      "needs_background": "light"
     },
     "output_type": "display_data"
    }
   ],
   "source": [
    "\n",
    "labels = ['Sunday', 'Monday', 'Tuesday', 'Wednesday', 'Thursday', 'Friday', 'Saturday']\n",
    "means17 = comp_17_18['2017']\n",
    "means18 = comp_17_18['2018']\n",
    "\n",
    "x = np.arange(len(labels))  # the label locations\n",
    "width = 0.35  # the width of the bars\n",
    "\n",
    "fig, ax = plt.subplots()\n",
    "rects1 = ax.bar(x - width/2, means17, width, label='2017')\n",
    "rects2 = ax.bar(x + width/2, means18, width, label='2018')\n",
    "\n",
    "# Add some text for labels, title and custom x-axis tick labels, etc.\n",
    "ax.set_ylabel('Seconds')\n",
    "ax.set_title('Solve Times by Year')\n",
    "ax.set_xticks(x)\n",
    "ax.set_xticklabels(labels)\n",
    "ax.legend()\n",
    "\n",
    "def autolabel(rects):\n",
    "    \"\"\"Attach a text label above each bar in *rects*, displaying its height.\"\"\"\n",
    "    for rect in rects:\n",
    "        height = int(rect.get_height())\n",
    "        ax.annotate('{}'.format(height),\n",
    "                    xy=(rect.get_x() + rect.get_width() / 2, height),\n",
    "                    xytext=(2.5, 0),  # 3 points vertical offset\n",
    "                    textcoords=\"offset points\",\n",
    "                    ha='center', va='bottom')\n",
    "\n",
    "\n",
    "autolabel(rects1)\n",
    "autolabel(rects2)\n",
    "\n",
    "fig.tight_layout()\n",
    "\n",
    "plt.show()\n"
   ]
  },
  {
   "cell_type": "code",
   "execution_count": null,
   "metadata": {},
   "outputs": [],
   "source": []
  }
 ],
 "metadata": {
  "kernelspec": {
   "display_name": "Python [conda env:root] *",
   "language": "python",
   "name": "conda-root-py"
  },
  "language_info": {
   "codemirror_mode": {
    "name": "ipython",
    "version": 3
   },
   "file_extension": ".py",
   "mimetype": "text/x-python",
   "name": "python",
   "nbconvert_exporter": "python",
   "pygments_lexer": "ipython3",
   "version": "3.7.7"
  }
 },
 "nbformat": 4,
 "nbformat_minor": 4
}
