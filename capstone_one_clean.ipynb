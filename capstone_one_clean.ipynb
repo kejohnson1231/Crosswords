{
 "cells": [
  {
   "cell_type": "markdown",
   "metadata": {},
   "source": [
    "**Imports**"
   ]
  },
  {
   "cell_type": "code",
   "execution_count": 3,
   "metadata": {},
   "outputs": [],
   "source": [
    "from selenium import webdriver\n",
    "from selenium.webdriver import Chrome\n",
    "from selenium.webdriver.common.by import By\n",
    "from selenium.webdriver.support.ui import WebDriverWait\n",
    "from selenium.webdriver.support import expected_conditions as EC\n",
    "from selenium.common.exceptions import NoAlertPresentException\n",
    "from selenium.common.exceptions import TimeoutException\n",
    "from selenium.webdriver.common.keys import Keys\n",
    "\n",
    "import pandas as pd\n",
    "\n",
    "from pymongo import MongoClient\n",
    "import pandas as pd\n",
    "\n",
    "# Requests sends and recieves HTTP requests.\n",
    "import requests\n",
    "\n",
    "# Beautiful Soup parses HTML documents in python.\n",
    "from bs4 import BeautifulSoup\n",
    "\n",
    "import time\n",
    "import pprint\n",
    "\n",
    "from datetime import timedelta, date\n",
    "import datetime\n",
    "\n",
    "import numpy as np\n",
    "import matplotlib as plt"
   ]
  },
  {
   "cell_type": "markdown",
   "metadata": {},
   "source": [
    "#### Initiating Selenium, signing in, navigating to page"
   ]
  },
  {
   "cell_type": "code",
   "execution_count": null,
   "metadata": {},
   "outputs": [],
   "source": [
    "webdriver = \"/Users/kathrynjohnson/Downloads/chromedriver\"\n",
    "\n",
    "driver = Chrome(webdriver)\n",
    "\n",
    "login_url = \"https://myaccount.nytimes.com/auth/login\"\n",
    "\n",
    "driver.get(login_url)\n",
    "\n",
    "html_source = driver.page_source"
   ]
  },
  {
   "cell_type": "code",
   "execution_count": null,
   "metadata": {},
   "outputs": [],
   "source": [
    "request_url = 'https://www.nytimes.com/crosswords'\n",
    "\n",
    "driver.get(request_url)\n",
    "\n",
    "html_source = driver.page_source"
   ]
  },
  {
   "cell_type": "markdown",
   "metadata": {},
   "source": [
    "#### Template Code"
   ]
  },
  {
   "cell_type": "code",
   "execution_count": null,
   "metadata": {},
   "outputs": [],
   "source": [
    "def daterange(start_date, end_date):\n",
    "    for n in range(int ((end_date - start_date).days)):\n",
    "        yield start_date + timedelta(n)\n",
    "\n",
    "puzzle_dict = {}\n",
    "start_date = date(2019, 1, 1)\n",
    "end_date = date(2019, 1, 2)\n",
    "\n",
    "for single_date in daterange(start_date, end_date):\n",
    "    #tell selenium to access the site and wait for it to load\n",
    "    url = \"https://www.nytimes.com/crosswords/game/daily/\" + single_date.strftime(\"%Y/%m/%d\") + \"/\"\n",
    "    driver.get(url)\n",
    "    time.sleep(10)\n",
    "    \n",
    "    #get all the clues and return them in a list\n",
    "    clue_element = driver.find_elements_by_class_name(\"Clue-text--3lZl7\")\n",
    "    clue = [x.text for x in clue_element]\n",
    "    \n",
    "    #get the day of the week from the puzzle details\n",
    "    day_element = driver.find_elements_by_class_name('PuzzleDetails-date--1HNzj')\n",
    "    for x in day_element:\n",
    "        date_info = x.text\n",
    "        date_split = date_info.split(' ')\n",
    "        day_of_week = date_split[0]\n",
    "    author_element = driver.find_elements_by_class_name(\"PuzzleDetails-byline--16J5w\")\n",
    "    \n",
    "    #get the author of the puzzle, parsing will be based on whether puzzle has a special title\n",
    "    for x in author_element:\n",
    "        if x.text[0] is 'T':\n",
    "            byline = x.text[16:]\n",
    "            byline_split = byline.split('Edited')\n",
    "            author = byline_split[0]\n",
    "        elif x.text[0] is '\"':\n",
    "            byline = x.text.replace('\"', ' ')\n",
    "            byline2 = byline.replace('Edited ', ' ')\n",
    "            byline3 = byline2.replace('by', 'By')\n",
    "            byline_split = byline3.split('By ')\n",
    "            author = byline_split[1]\n",
    "    \n",
    "    #get the solve time and format it\n",
    "    timer_element = driver.find_elements_by_class_name('timer-count')\n",
    "    for x in timer_element:\n",
    "        if len(x.text) == 4:\n",
    "            timer = '00:0' + x.text\n",
    "        elif len(x.text) == 5:\n",
    "            timer = '00:' + x.text\n",
    "        elif len(x.text) == 7:\n",
    "            timer = '0' + x.text\n",
    "        else:\n",
    "            timer = x.text\n",
    "    \n",
    "    #convert timer to seconds\n",
    "    date_time = datetime.datetime.strptime(timer, \"%H:%M:%S\")\n",
    "    a_timedelta = date_time - datetime.datetime(1900, 1, 1)\n",
    "    seconds = a_timedelta.total_seconds()\n",
    "    \n",
    "    #return all of the data in dictionary with the puzzle date as the key\n",
    "    puzzle_dict[single_date.strftime(\"%Y-%m-%d\")] = (seconds, day_of_week, author, clue)\n",
    "    \n",
    "    #tell selenium to wait a few more seconds before the next pull\n",
    "    time.sleep(5)"
   ]
  },
  {
   "cell_type": "code",
   "execution_count": null,
   "metadata": {},
   "outputs": [],
   "source": [
    "df = pd.DataFrame.from_dict(puzzle_dict, orient='index', columns=['solve time(seconds)', 'day', 'author', 'clues'])"
   ]
  },
  {
   "cell_type": "markdown",
   "metadata": {},
   "source": [
    "#### Separating Days of the Week"
   ]
  },
  {
   "cell_type": "code",
   "execution_count": null,
   "metadata": {},
   "outputs": [],
   "source": [
    "df_Sun = df[df['day'] == 'Sunday']\n",
    "df_Mon = df[df['day'] == 'Monday']\n",
    "df_Tues = df[df['day'] == 'Tuesday']\n",
    "df_Wed = df[df['day'] == 'Wednesday']\n",
    "df_Thurs = df[df['day'] == 'Thursday']\n",
    "df_Fri = df[df['day'] == 'Friday']\n",
    "df_Sat = df[df['day'] == 'Saturday']"
   ]
  },
  {
   "cell_type": "code",
   "execution_count": null,
   "metadata": {},
   "outputs": [],
   "source": []
  },
  {
   "cell_type": "code",
   "execution_count": null,
   "metadata": {},
   "outputs": [],
   "source": []
  },
  {
   "cell_type": "code",
   "execution_count": null,
   "metadata": {},
   "outputs": [],
   "source": []
  }
 ],
 "metadata": {
  "kernelspec": {
   "display_name": "Python [conda env:root] *",
   "language": "python",
   "name": "conda-root-py"
  },
  "language_info": {
   "codemirror_mode": {
    "name": "ipython",
    "version": 3
   },
   "file_extension": ".py",
   "mimetype": "text/x-python",
   "name": "python",
   "nbconvert_exporter": "python",
   "pygments_lexer": "ipython3",
   "version": "3.7.7"
  }
 },
 "nbformat": 4,
 "nbformat_minor": 4
}
